{
 "cells": [
  {
   "cell_type": "code",
   "execution_count": 1,
   "metadata": {},
   "outputs": [],
   "source": [
    "import xarray as xr\n",
    "from dask.distributed import Client\n",
    "from dask_jobqueue import PBSCluster\n",
    "from ncl_to_python.calculate_monthly_values_module import *\n",
    "from dask import compute\n",
    "import dask"
   ]
  },
  {
   "cell_type": "code",
   "execution_count": 2,
   "metadata": {},
   "outputs": [],
   "source": [
    "cluster = PBSCluster(queue='research',\n",
    "                     project='DaskOnPBS',\n",
    "                     local_directory='/lus/dal/hpcs_rnd/Python_Data_Analysis/Jatin/ncl_to_python_v3/Parallel_Function_Testing/calc_monthly_values/DASK_OUT/',\n",
    "                     cores=1,\n",
    "                     processes=1,\n",
    "                     memory='40GB',\n",
    "                     walltime='24:00:00',\n",
    "                     resource_spec='select=1:ncpus=36:mem=40GB:vntype=cray_compute',\n",
    "                     env_extra=['aprun -n 1'])"
   ]
  },
  {
   "cell_type": "code",
   "execution_count": 3,
   "metadata": {},
   "outputs": [],
   "source": [
    "# Scale clusters to add 4 workers\n",
    "cluster.scale(4)"
   ]
  },
  {
   "cell_type": "code",
   "execution_count": 4,
   "metadata": {},
   "outputs": [],
   "source": [
    "client = Client(cluster)"
   ]
  },
  {
   "cell_type": "code",
   "execution_count": 5,
   "metadata": {},
   "outputs": [
    {
     "data": {
      "text/html": [
       "<table style=\"border: 2px solid white;\">\n",
       "<tr>\n",
       "<td style=\"vertical-align: top; border: 0px solid white\">\n",
       "<h3 style=\"text-align: left;\">Client</h3>\n",
       "<ul style=\"text-align: left; list-style: none; margin: 0; padding: 0;\">\n",
       "  <li><b>Scheduler: </b>tcp://10.12.1.23:38876</li>\n",
       "  <li><b>Dashboard: </b><a href='http://10.12.1.23:8787/status' target='_blank'>http://10.12.1.23:8787/status</a>\n",
       "</ul>\n",
       "</td>\n",
       "<td style=\"vertical-align: top; border: 0px solid white\">\n",
       "<h3 style=\"text-align: left;\">Cluster</h3>\n",
       "<ul style=\"text-align: left; list-style:none; margin: 0; padding: 0;\">\n",
       "  <li><b>Workers: </b>0</li>\n",
       "  <li><b>Cores: </b>0</li>\n",
       "  <li><b>Memory: </b>0 B</li>\n",
       "</ul>\n",
       "</td>\n",
       "</tr>\n",
       "</table>"
      ],
      "text/plain": [
       "<Client: 'tcp://10.12.1.23:38876' processes=0 threads=0, memory=0 B>"
      ]
     },
     "execution_count": 5,
     "metadata": {},
     "output_type": "execute_result"
    }
   ],
   "source": [
    "client"
   ]
  },
  {
   "cell_type": "code",
   "execution_count": 6,
   "metadata": {},
   "outputs": [
    {
     "name": "stdout",
     "output_type": "stream",
     "text": [
      "PATH is /lus/dal/hpcs_rnd/Python_Data_Analysis/Jatin/b.e11.B1850C5CN.f09_g16.005.cam.h1.FLNS.05000101-05991231.nc\n"
     ]
    }
   ],
   "source": [
    "# Enter the path to the dataset\n",
    "path = open(\"INPUT_PATH.txt\")\n",
    "path1 = path.read()\n",
    "path1 = path1.rstrip('\\n')\n",
    "print(\"PATH is {}\".format(path1))\n",
    "ds = xr.open_mfdataset(path1, chunks = {'lat':96, 'lon':144}, parallel = True)\n",
    "\n",
    "var = ds[\"FLNS\"]"
   ]
  },
  {
   "cell_type": "code",
   "execution_count": 7,
   "metadata": {},
   "outputs": [],
   "source": [
    "# Change data=False in opt to data=True to use it\n",
    "opt = xr.DataArray(data=False)\n",
    "opt.attrs[\"nval_crit\"] = 30"
   ]
  },
  {
   "cell_type": "code",
   "execution_count": 8,
   "metadata": {},
   "outputs": [
    {
     "name": "stdout",
     "output_type": "stream",
     "text": [
      "CPU times: user 17.5 s, sys: 31.3 s, total: 48.8 s\n",
      "Wall time: 1min 29s\n"
     ]
    }
   ],
   "source": [
    "# Send task to different workers for computation and print wall time\n",
    "%time result = calculate_monthly_values(var, \"avg\", 0, opt).compute()"
   ]
  },
  {
   "cell_type": "code",
   "execution_count": 9,
   "metadata": {},
   "outputs": [],
   "source": [
    "# Shutdown the client, workers and jobs running\n",
    "client.shutdown()"
   ]
  },
  {
   "cell_type": "code",
   "execution_count": 10,
   "metadata": {
    "scrolled": false
   },
   "outputs": [
    {
     "data": {
      "text/plain": [
       "<xarray.DataArray 'xMon' (time: 1201, lat: 192, lon: 288)>\n",
       "array([[[72.64817 , 75.08056 , ..., 72.61503 , 75.400955],\n",
       "        [72.60523 , 72.85755 , ..., 72.10024 , 71.47343 ],\n",
       "        ...,\n",
       "        [29.677334, 29.557276, ..., 29.641273, 29.841146],\n",
       "        [32.051834, 32.063877, ..., 32.023476, 32.038128]],\n",
       "\n",
       "       [[53.95934 , 55.16146 , ..., 53.97337 , 55.33552 ],\n",
       "        [53.0921  , 53.247387, ..., 52.598408, 52.325512],\n",
       "        ...,\n",
       "        [24.721003, 24.723063, ..., 24.880758, 24.913538],\n",
       "        [25.1232  , 25.132278, ..., 25.101728, 25.11278 ]],\n",
       "\n",
       "       ...,\n",
       "\n",
       "       [[72.62319 , 74.62072 , ..., 72.5638  , 74.799255],\n",
       "        [72.12051 , 72.40842 , ..., 71.274666, 71.15322 ],\n",
       "        ...,\n",
       "        [28.514708, 28.35869 , ..., 28.61337 , 28.497839],\n",
       "        [31.7786  , 31.786133, ..., 31.760412, 31.769775]],\n",
       "\n",
       "       [[80.076004, 82.51779 , ..., 80.05028 , 82.83122 ],\n",
       "        [79.39739 , 79.70613 , ..., 78.3651  , 78.32148 ],\n",
       "        ...,\n",
       "        [21.620682, 21.146658, ..., 21.368269, 22.005241],\n",
       "        [23.567213, 23.580206, ..., 23.536552, 23.552395]]], dtype=float32)\n",
       "Coordinates:\n",
       "  * time     (time) object 0500-01-31 00:00:00 ... 0600-01-31 00:00:00\n",
       "  * lat      (lat) float64 -90.0 -89.06 -88.12 -87.17 ... 87.17 88.12 89.06 90.0\n",
       "  * lon      (lon) float64 0.0 1.25 2.5 3.75 5.0 ... 355.0 356.2 357.5 358.8\n",
       "Attributes:\n",
       "    Sampling_Sequence:  rad_lwsw\n",
       "    units:              W/m2\n",
       "    long_name:          Net longwave flux at surface\n",
       "    cell_methods:       time: mean\n",
       "    time:               0\n",
       "    NCL_tag:            calculate_monthly_values: arith=avg"
      ]
     },
     "execution_count": 10,
     "metadata": {},
     "output_type": "execute_result"
    },
    {
     "name": "stderr",
     "output_type": "stream",
     "text": [
      "distributed.client - ERROR - Failed to reconnect to scheduler after 10.00 seconds, closing client\n",
      "distributed.utils - ERROR - \n",
      "Traceback (most recent call last):\n",
      "  File \"/lus/dal/hpcs_rnd/apps/anaconda3/lib/python3.7/site-packages/distributed/utils.py\", line 663, in log_errors\n",
      "    yield\n",
      "  File \"/lus/dal/hpcs_rnd/apps/anaconda3/lib/python3.7/site-packages/distributed/client.py\", line 1295, in _close\n",
      "    await gen.with_timeout(timedelta(seconds=2), list(coroutines))\n",
      "concurrent.futures._base.CancelledError\n",
      "distributed.utils - ERROR - \n",
      "Traceback (most recent call last):\n",
      "  File \"/lus/dal/hpcs_rnd/apps/anaconda3/lib/python3.7/site-packages/distributed/utils.py\", line 663, in log_errors\n",
      "    yield\n",
      "  File \"/lus/dal/hpcs_rnd/apps/anaconda3/lib/python3.7/site-packages/distributed/client.py\", line 1024, in _reconnect\n",
      "    await self._close()\n",
      "  File \"/lus/dal/hpcs_rnd/apps/anaconda3/lib/python3.7/site-packages/distributed/client.py\", line 1295, in _close\n",
      "    await gen.with_timeout(timedelta(seconds=2), list(coroutines))\n",
      "concurrent.futures._base.CancelledError\n"
     ]
    }
   ],
   "source": [
    "result"
   ]
  },
  {
   "cell_type": "code",
   "execution_count": null,
   "metadata": {},
   "outputs": [],
   "source": []
  }
 ],
 "metadata": {
  "kernelspec": {
   "display_name": "Python 3",
   "language": "python",
   "name": "python3"
  },
  "language_info": {
   "codemirror_mode": {
    "name": "ipython",
    "version": 3
   },
   "file_extension": ".py",
   "mimetype": "text/x-python",
   "name": "python",
   "nbconvert_exporter": "python",
   "pygments_lexer": "ipython3",
   "version": "3.7.4"
  }
 },
 "nbformat": 4,
 "nbformat_minor": 2
}
