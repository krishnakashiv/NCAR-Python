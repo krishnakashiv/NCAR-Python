{
 "cells": [
  {
   "cell_type": "code",
   "execution_count": null,
   "metadata": {},
   "outputs": [],
   "source": [
    "import xarray as xr\n",
    "from dask.distributed import Client\n",
    "from dask_jobqueue import PBSCluster\n",
    "from ncl_to_python.month_to_season_module import *\n",
    "from dask import compute\n",
    "import dask"
   ]
  },
  {
   "cell_type": "code",
   "execution_count": null,
   "metadata": {},
   "outputs": [],
   "source": [
    "cluster = PBSCluster(queue='research',\n",
    "                     project='DaskOnPBS',\n",
    "                     local_directory='/lus/dal/hpcs_rnd/Python_Data_Analysis/Jatin/ncl_to_python_v3/Parallel_Function_Testing/month_2_season/DASK_OUT/',\n",
    "                     cores=1,\n",
    "                     processes=1,\n",
    "                     memory='40GB',\n",
    "                     walltime='24:00:00',\n",
    "                     resource_spec='select=1:ncpus=36:mem=40GB:vntype=cray_compute',\n",
    "                     env_extra=['aprun -n 1'])"
   ]
  },
  {
   "cell_type": "code",
   "execution_count": null,
   "metadata": {},
   "outputs": [],
   "source": [
    "# Scale clusters to add 4 workers\n",
    "cluster.scale(4)"
   ]
  },
  {
   "cell_type": "code",
   "execution_count": null,
   "metadata": {},
   "outputs": [],
   "source": [
    "client = Client(cluster)"
   ]
  },
  {
   "cell_type": "code",
   "execution_count": null,
   "metadata": {},
   "outputs": [],
   "source": [
    "client"
   ]
  },
  {
   "cell_type": "code",
   "execution_count": null,
   "metadata": {},
   "outputs": [],
   "source": [
    "# Enter the path to the dataset\n",
    "path = open(\"INPUT_PATH.txt\")\n",
    "path1 = path.read()\n",
    "path1 = path1.rstrip('\\n')\n",
    "print(\"PATH IS: {}\".format(path1))\n",
    "ds = xr.open_mfdataset(path1, chunks = {'nlat':60, 'nlon':60}, parallel = True)\n",
    "\n",
    "var = ds[\"TEMP\"]"
   ]
  },
  {
   "cell_type": "code",
   "execution_count": null,
   "metadata": {},
   "outputs": [],
   "source": [
    "# Send task to different workers for computation and print wall time\n",
    "%time result = month_to_seasonN(var, \"JFM\", \"SON\").compute()"
   ]
  },
  {
   "cell_type": "code",
   "execution_count": null,
   "metadata": {},
   "outputs": [],
   "source": [
    "# Shutdown the client, workers and jobs running\n",
    "client.shutdown()"
   ]
  },
  {
   "cell_type": "code",
   "execution_count": null,
   "metadata": {
    "scrolled": false
   },
   "outputs": [],
   "source": [
    "result"
   ]
  },
  {
   "cell_type": "code",
   "execution_count": null,
   "metadata": {},
   "outputs": [],
   "source": []
  }
 ],
 "metadata": {
  "kernelspec": {
   "display_name": "Python 3",
   "language": "python",
   "name": "python3"
  },
  "language_info": {
   "codemirror_mode": {
    "name": "ipython",
    "version": 3
   },
   "file_extension": ".py",
   "mimetype": "text/x-python",
   "name": "python",
   "nbconvert_exporter": "python",
   "pygments_lexer": "ipython3",
   "version": "3.7.4"
  }
 },
 "nbformat": 4,
 "nbformat_minor": 2
}
