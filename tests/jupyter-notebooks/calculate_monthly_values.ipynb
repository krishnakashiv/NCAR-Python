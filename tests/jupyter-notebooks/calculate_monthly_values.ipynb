{
 "cells": [
  {
   "cell_type": "code",
   "execution_count": 1,
   "metadata": {
    "colab": {},
    "colab_type": "code",
    "id": "8Fz7F7HSUD2n"
   },
   "outputs": [
    {
     "name": "stderr",
     "output_type": "stream",
     "text": [
      "/home/rait/anaconda3/lib/python3.7/site-packages/xarray/core/merge.py:17: FutureWarning: The Panel class is removed from pandas. Accessing it from the top-level namespace will also be removed in the next version\n",
      "  PANDAS_TYPES = (pd.Series, pd.DataFrame, pd.Panel)\n"
     ]
    }
   ],
   "source": [
    "import numpy as np\n",
    "import pandas as pd\n",
    "import xarray as xr"
   ]
  },
  {
   "cell_type": "code",
   "execution_count": 2,
   "metadata": {
    "colab": {
     "base_uri": "https://localhost:8080/",
     "height": 153
    },
    "colab_type": "code",
    "id": "sfQzjL5lVz7z",
    "outputId": "bf0dc234-4953-4f73-dabe-8bcb10292d69"
   },
   "outputs": [
    {
     "data": {
      "text/plain": [
       "<xarray.DataArray 'air' (time: 366, level: 17, lat: 73, lon: 144)>\n",
       "dask.array<shape=(366, 17, 73, 144), dtype=float32, chunksize=(366, 17, 73, 144)>\n",
       "Coordinates:\n",
       "  * level    (level) float32 1000.0 925.0 850.0 700.0 ... 50.0 30.0 20.0 10.0\n",
       "  * lat      (lat) float32 90.0 87.5 85.0 82.5 80.0 ... -82.5 -85.0 -87.5 -90.0\n",
       "  * lon      (lon) float32 0.0 2.5 5.0 7.5 10.0 ... 350.0 352.5 355.0 357.5\n",
       "  * time     (time) datetime64[ns] 1948-01-01 1948-01-02 ... 1948-12-31\n",
       "Attributes:\n",
       "    long_name:     mean Daily Air temperature\n",
       "    units:         degK\n",
       "    precision:     2\n",
       "    GRIB_id:       11\n",
       "    GRIB_name:     TMP\n",
       "    var_desc:      Air temperature\n",
       "    dataset:       NCEP Reanalysis Daily Averages\n",
       "    level_desc:    Multiple levels\n",
       "    statistic:     Mean\n",
       "    parent_stat:   Individual Obs\n",
       "    actual_range:  [152.57 317.6 ]\n",
       "    valid_range:   [150. 350.]"
      ]
     },
     "execution_count": 2,
     "metadata": {},
     "output_type": "execute_result"
    }
   ],
   "source": [
    "ds = xr.open_mfdataset(\"/home/rait/Datasets/air.1948.nc\")\n",
    "air = ds['air']\n",
    "air"
   ]
  },
  {
   "cell_type": "code",
   "execution_count": 3,
   "metadata": {},
   "outputs": [
    {
     "name": "stderr",
     "output_type": "stream",
     "text": [
      "/home/rait/anaconda3/lib/python3.7/site-packages/xarray/core/dataarray.py:219: FutureWarning: The Panel class is removed from pandas. Accessing it from the top-level namespace will also be removed in the next version\n",
      "  elif isinstance(data, pd.Panel):\n"
     ]
    },
    {
     "data": {
      "text/plain": [
       "<xarray.DataArray ()>\n",
       "array(False)\n",
       "Attributes:\n",
       "    nval_crit:  29"
      ]
     },
     "execution_count": 3,
     "metadata": {},
     "output_type": "execute_result"
    }
   ],
   "source": [
    "opt = xr.DataArray(data = None)\n",
    "opt.values = False\n",
    "opt.attrs[\"nval_crit\"] = 29\n",
    "opt"
   ]
  },
  {
   "cell_type": "code",
   "execution_count": null,
   "metadata": {},
   "outputs": [],
   "source": []
  },
  {
   "cell_type": "code",
   "execution_count": 4,
   "metadata": {
    "colab": {},
    "colab_type": "code",
    "id": "ilsHIqeMWN3H"
   },
   "outputs": [],
   "source": [
    "def calculate_monthly_values(x, arith, nDim, opt):\n",
    "    '''Calculate monthly values [avg, sum, min, max] from high frequency temporal values.\n",
    "    \n",
    "    \n",
    "    Parameters\n",
    "    ----------\n",
    "    x : Array containing the high frequency data. The x must have an associated time coordinate variable in units recognized by the cd_calendar function.\n",
    "\n",
    "        The following array structures are supported. The dimension name 'time' is a place-holder. Any name can be used. \n",
    "        The nDim argument specifies the dimension number to be used.\n",
    "\n",
    "            (time)                     # nDim=0\n",
    "            (time,npts)\n",
    "            (time,ny,nx)\n",
    "            (time,nz,ny,nx)\n",
    "            (time,ne,nz,ny,nx)         # nDim=0; added for NCL version 6.5.0\n",
    "            (ne,time,nz,ny,nx)         # nDim=1\n",
    "       \n",
    "    arith : A scalar string value which specifies the operation to be performed. \n",
    "            Valid values are: \"avg\" [also, \"ave\"], \"sum\", \"min\", \"max\", \"var\", \"std\". \n",
    "            It is required that x have associated with it a coordinate variable named time (ie, x&time) where \"time\" is recognized by cd_calendar.\n",
    "    \n",
    "    nDim : The dimension of x on which to calculate the statistic. Currently, only nDim=0 or 1 is allowed.\n",
    "    \n",
    "    \n",
    "    Returns\n",
    "    -------\n",
    "    objectDataArray : An array of the same rank as x. \n",
    "\n",
    "    '''\n",
    "    \n",
    "    # Get the rank of dataarray\n",
    "    len_of_dim = x.sizes\n",
    "    rank_of_x = len(len_of_dim)\n",
    "    \n",
    "    # Check if the rank of dim is valid or invalid; if invalid, exit the function\n",
    "    if (rank_of_x > 5):\n",
    "        print(\"calculate_monthly_values: rank = {} [only 5 dimensions or fewer supported]\".format(rank_of_x))\n",
    "        return None\n",
    "    \n",
    "    \n",
    "    # Get the variable name for time dimension\n",
    "    time = x.dims[nDim]\n",
    "    \n",
    "    # Check if the DataArray already has monthly values or not\n",
    "    days = x.time.dt.day\n",
    "    uniq = np.unique(days)\n",
    "    if (len(uniq) == 1):\n",
    "        print(\"Data already in monthly format, or invalid.\")\n",
    "        return None\n",
    "    \n",
    "    if (rank_of_x <= 4):\n",
    "        no_of_time = len_of_dim[x.dims[0]]\n",
    "    else:\n",
    "        no_of_time = len_of_dim[x.dims[1]]\n",
    "        \n",
    "    \n",
    "    # First Year, Last Year and the number of years present in the DataArray\n",
    "    yr_strt = x.time.dt.year[0].item()\n",
    "    yr_last = x.time.dt.year[-1].item()\n",
    "    no_of_years = yr_last - yr_strt + 1\n",
    "    \n",
    "    # Number of months in a year\n",
    "    no_of_months = 12\n",
    "    \n",
    "    # Calculate the number of days for each month\n",
    "    \n",
    "    # A days per month dictionary to support different calendar types\n",
    "    dpm = {'noleap': [0, 31, 28, 31, 30, 31, 30, 31, 31, 30, 31, 30, 31],\n",
    "       '365_day': [0, 31, 28, 31, 30, 31, 30, 31, 31, 30, 31, 30, 31],\n",
    "       'standard': [0, 31, 28, 31, 30, 31, 30, 31, 31, 30, 31, 30, 31],\n",
    "       'gregorian': [0, 31, 28, 31, 30, 31, 30, 31, 31, 30, 31, 30, 31],\n",
    "       'proleptic_gregorian': [0, 31, 28, 31, 30, 31, 30, 31, 31, 30, 31, 30, 31],\n",
    "       'all_leap': [0, 31, 29, 31, 30, 31, 30, 31, 31, 30, 31, 30, 31],\n",
    "       '366_day': [0, 31, 29, 31, 30, 31, 30, 31, 31, 30, 31, 30, 31],\n",
    "       '360_day': [0, 30, 30, 30, 30, 30, 30, 30, 30, 30, 30, 30, 30]}\n",
    "    \n",
    "    # Check if the year is leap year or not\n",
    "    def leap_year(year, calendar='standard'):\n",
    "        \"\"\"Determine if year is a leap year\"\"\"\n",
    "        leap = False\n",
    "        if ((calendar in ['standard', 'gregorian',\n",
    "            'proleptic_gregorian', 'julian']) and\n",
    "            (year % 4 == 0)):\n",
    "            leap = True\n",
    "            if ((calendar == 'proleptic_gregorian') and\n",
    "                (year % 100 == 0) and\n",
    "                (year % 400 != 0)):\n",
    "                leap = False\n",
    "            elif ((calendar in ['standard', 'gregorian']) and\n",
    "                     (year % 100 == 0) and (year % 400 != 0) and\n",
    "                     (year < 1583)):\n",
    "                leap = False\n",
    "        return leap\n",
    "    \n",
    "    \n",
    "    # Days per month function\n",
    "    def get_dpm(time, calendar='standard'):\n",
    "        \"\"\"\n",
    "        return an array of days per month corresponding to the months provided in `months`\n",
    "\n",
    "        \"\"\"\n",
    "        month_length = np.zeros(len(time), dtype=np.int)\n",
    "\n",
    "        cal_days = dpm[calendar]\n",
    "\n",
    "        for i, (month, year) in enumerate(zip(time.month, time.year)):\n",
    "            month_length[i] = cal_days[month]\n",
    "            if leap_year(year, calendar=calendar):\n",
    "                month_length[i] += 1\n",
    "        return month_length\n",
    "    \n",
    "    \n",
    "    # Save the month length values in a DataArray\n",
    "    month_length = xr.DataArray(get_dpm(x.time.to_index(), calendar='noleap'),\n",
    "                            coords=[x.time], name='month_length')\n",
    "    \n",
    "    # Copy the original DataArray\n",
    "    x_new = x.copy(data = x, deep = True)\n",
    "    \n",
    "    # Load the new DataArray into memory (necessary for chunked data)\n",
    "    x_new.load()\n",
    "    \n",
    "    # Check opt and get the nval_crit value\n",
    "    if (opt.item() == True):\n",
    "        nCritical = opt.attrs['nval_crit']\n",
    "        \n",
    "        # Set the nan index\n",
    "        nan_index = np.array([])\n",
    "        for i in range(0,len(month_length)):\n",
    "            if (month_length[i].item() < nCritical):\n",
    "                nan_index = np.append(nan_index,i)\n",
    "        \n",
    "        \n",
    "        # Replace values with NaN for monthly_length < nCritical :: as per NCL function\n",
    "        if (rank_of_x < 5):\n",
    "            for ind in nan_index:\n",
    "                nan_val = int(ind)\n",
    "                x_new[nan_val] = None\n",
    "        \n",
    "        elif (rank_of_x == 5):\n",
    "            for ind in nan_index:\n",
    "                nan_val = int(ind)\n",
    "                x_new[:,nan_val,:,:,:] = None\n",
    "   \n",
    "    # Perform the Arithmetic Computations\n",
    "    \n",
    "    if (arith == \"avg\"):\n",
    "        xReturn = x_new.resample(time = '1M').mean(time, skipna = False)\n",
    "\n",
    "    elif (arith == \"sum\"):\n",
    "        xReturn = x_new.resample(time = '1M').sum(time, skipna = False)\n",
    "\n",
    "    elif (arith == \"min\"):\n",
    "        xReturn = x_new.resample(time = '1M').min(time, skipna = False)\n",
    "\n",
    "    elif (arith == \"max\"):\n",
    "        xReturn = x_new.resample(time = '1M').max(time, skipna = False)\n",
    "\n",
    "    elif (arith == \"var\"):\n",
    "        xReturn = x_new.resample(time = '1M').var(time, skipna = False)\n",
    "\n",
    "    elif (arith == \"std\"):\n",
    "        xReturn = x_new.resample(time = '1M').std(time, skipna = False)\n",
    "\n",
    "    else:\n",
    "        print(\"Unsupported arithmetic {}\".format(arith))\n",
    "        return None\n",
    "    \n",
    "    # Add and copy the attributes and properties from original DataArray\n",
    "    xReturn = xReturn.rename(\"xMon\")\n",
    "    xReturn.attrs = x.attrs\n",
    "    xReturn.encoding = x.encoding\n",
    "\n",
    "    xReturn.attrs[\"time\"] = nDim\n",
    "    xReturn.attrs[\"NCL_tag\"] = \"calculate_monthly_values: arith=\" + arith\n",
    "    \n",
    "    \n",
    "    return xReturn"
   ]
  },
  {
   "cell_type": "code",
   "execution_count": null,
   "metadata": {},
   "outputs": [],
   "source": []
  },
  {
   "cell_type": "code",
   "execution_count": 5,
   "metadata": {},
   "outputs": [],
   "source": [
    "result = calculate_monthly_values(air, \"std\", 0, opt)"
   ]
  },
  {
   "cell_type": "code",
   "execution_count": 6,
   "metadata": {},
   "outputs": [
    {
     "data": {
      "text/plain": [
       "<xarray.DataArray 'xMon' (time: 12, level: 17, lat: 73, lon: 144)>\n",
       "array([[[[4.145321, ..., 4.145321],\n",
       "         ...,\n",
       "         [3.988414, ..., 3.988414]],\n",
       "\n",
       "        ...,\n",
       "\n",
       "        [[5.876138, ..., 5.876138],\n",
       "         ...,\n",
       "         [2.043312, ..., 2.043312]]],\n",
       "\n",
       "\n",
       "       ...,\n",
       "\n",
       "\n",
       "       [[[4.896616, ..., 4.896616],\n",
       "         ...,\n",
       "         [1.969773, ..., 1.969773]],\n",
       "\n",
       "        ...,\n",
       "\n",
       "        [[5.267418, ..., 5.267418],\n",
       "         ...,\n",
       "         [1.839359, ..., 1.839359]]]], dtype=float32)\n",
       "Coordinates:\n",
       "  * time     (time) datetime64[ns] 1948-01-31 1948-02-29 ... 1948-12-31\n",
       "  * level    (level) float32 1000.0 925.0 850.0 700.0 ... 50.0 30.0 20.0 10.0\n",
       "  * lat      (lat) float32 90.0 87.5 85.0 82.5 80.0 ... -82.5 -85.0 -87.5 -90.0\n",
       "  * lon      (lon) float32 0.0 2.5 5.0 7.5 10.0 ... 350.0 352.5 355.0 357.5\n",
       "Attributes:\n",
       "    long_name:     mean Daily Air temperature\n",
       "    units:         degK\n",
       "    precision:     2\n",
       "    GRIB_id:       11\n",
       "    GRIB_name:     TMP\n",
       "    var_desc:      Air temperature\n",
       "    dataset:       NCEP Reanalysis Daily Averages\n",
       "    level_desc:    Multiple levels\n",
       "    statistic:     Mean\n",
       "    parent_stat:   Individual Obs\n",
       "    actual_range:  [152.57 317.6 ]\n",
       "    valid_range:   [150. 350.]\n",
       "    time:          0\n",
       "    NCL_tag:       calculate_monthly_values: arith=std"
      ]
     },
     "execution_count": 6,
     "metadata": {},
     "output_type": "execute_result"
    }
   ],
   "source": [
    "result"
   ]
  },
  {
   "cell_type": "code",
   "execution_count": 7,
   "metadata": {},
   "outputs": [
    {
     "data": {
      "text/plain": [
       "array([3.7297616, 3.4383311, 2.744366 , 1.2757269, 1.2679447, 1.9829098,\n",
       "       1.6773349, 1.2525936, 3.3176465, 2.1348646, 2.4382775, 2.3353655],\n",
       "      dtype=float32)"
      ]
     },
     "execution_count": 7,
     "metadata": {},
     "output_type": "execute_result"
    }
   ],
   "source": [
    "result[:,12,12,12].values"
   ]
  },
  {
   "cell_type": "code",
   "execution_count": null,
   "metadata": {},
   "outputs": [],
   "source": []
  }
 ],
 "metadata": {
  "accelerator": "GPU",
  "colab": {
   "collapsed_sections": [],
   "name": "calculate_monthly_values.ipynb",
   "provenance": [],
   "version": "0.3.2"
  },
  "kernelspec": {
   "display_name": "Python 3",
   "language": "python",
   "name": "python3"
  },
  "language_info": {
   "codemirror_mode": {
    "name": "ipython",
    "version": 3
   },
   "file_extension": ".py",
   "mimetype": "text/x-python",
   "name": "python",
   "nbconvert_exporter": "python",
   "pygments_lexer": "ipython3",
   "version": "3.7.3"
  }
 },
 "nbformat": 4,
 "nbformat_minor": 1
}
