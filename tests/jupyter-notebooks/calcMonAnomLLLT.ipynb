{
 "cells": [
  {
   "cell_type": "code",
   "execution_count": 1,
   "metadata": {},
   "outputs": [],
   "source": [
    "import warnings\n",
    "warnings.filterwarnings('ignore')\n",
    "\n",
    "import numpy as np\n",
    "import pandas as pd\n",
    "import xarray as xr"
   ]
  },
  {
   "cell_type": "code",
   "execution_count": 2,
   "metadata": {},
   "outputs": [],
   "source": [
    "path = \"~/Downloads/air.mon.mean.nc\"\n",
    "\n",
    "ds = xr.open_dataset(path)"
   ]
  },
  {
   "cell_type": "code",
   "execution_count": 3,
   "metadata": {},
   "outputs": [
    {
     "data": {
      "text/plain": [
       "<xarray.DataArray 'air' (level: 17, lat: 73, lon: 144, time: 252)>\n",
       "[45033408 values with dtype=float32]\n",
       "Coordinates:\n",
       "  * level    (level) float32 1000.0 925.0 850.0 700.0 ... 50.0 30.0 20.0 10.0\n",
       "  * lat      (lat) float32 90.0 87.5 85.0 82.5 80.0 ... -82.5 -85.0 -87.5 -90.0\n",
       "  * lon      (lon) float32 0.0 2.5 5.0 7.5 10.0 ... 350.0 352.5 355.0 357.5\n",
       "  * time     (time) datetime64[ns] 1979-01-01 1979-02-01 ... 1999-12-01\n",
       "Attributes:\n",
       "    long_name:             Monthly Air Temperature on Pressure Levels\n",
       "    valid_range:           [-32765 -10260]\n",
       "    unpacked_valid_range:  [137.5 362.5]\n",
       "    actual_range:          [179.40775 315.97388]\n",
       "    units:                 degK\n",
       "    precision:             2\n",
       "    GRIB_id:               11\n",
       "    GRIB_name:             TMP\n",
       "    var_desc:              Air temperature\n",
       "    dataset:               NCEP/DOE AMIP-II Reanalysis (Reanalysis-2) Monthly...\n",
       "    level_desc:            Pressure Levels\n",
       "    statistic:             Individual Obs\n",
       "    parent_stat:           Other\n",
       "    standard_name:         air_temperature\n",
       "    cell_methods:          time: mean (monthly from 6-hourly values)"
      ]
     },
     "execution_count": 3,
     "metadata": {},
     "output_type": "execute_result"
    }
   ],
   "source": [
    "y = ds['air']\n",
    "air = y.loc['1979-01-01':'1999-12-01']\n",
    "air = air.transpose('level', 'lat', 'lon', 'time')\n",
    "air"
   ]
  },
  {
   "cell_type": "code",
   "execution_count": 4,
   "metadata": {},
   "outputs": [],
   "source": [
    "def clmMonLLLT(x):\n",
    "    \n",
    "    # Calculate the sizes of time dimension\n",
    "    len_of_dim = x.sizes\n",
    "    time_size = len_of_dim[x.dims[3]]\n",
    "    \n",
    "    # Check if number of months are multiple of 12; if not, exit the function\n",
    "    no_of_months = 12\n",
    "    if ((time_size % no_of_months) != 0):\n",
    "        print(\"month_to_season12: dimension must be a multiple of 12\")\n",
    "        return None\n",
    "    \n",
    "    # Get the sizes of latitude and longitude dimension\n",
    "    lev_size = len_of_dim[x.dims[0]]\n",
    "    lat_size = len_of_dim[x.dims[1]]\n",
    "    lon_size = len_of_dim[x.dims[2]]\n",
    "    \n",
    "    \n",
    "    # Store the time dimension name present in dataset as time variable\n",
    "    time = x.dims[3]\n",
    "    \n",
    "    # Store as a string for groupby operation\n",
    "    time_month = time + '.month'\n",
    "    \n",
    "    # Compute 12 months average\n",
    "    ave_month = x.groupby(time_month).mean(time)\n",
    "    \n",
    "    # Copy and update the attributes\n",
    "    ave_month.attrs = x.attrs\n",
    "    ave_month = ave_month.rename(\"aveMonth\")\n",
    "    ave_month.attrs['time_op_ncl'] = \"Climatology: \" + str(int(time_size/no_of_months)) + \" years\"\n",
    "    ave_month.attrs['info'] = \"function clmMonTLL\"\n",
    "    \n",
    "    # Return the results\n",
    "    return ave_month"
   ]
  },
  {
   "cell_type": "code",
   "execution_count": 5,
   "metadata": {},
   "outputs": [],
   "source": [
    "xAve = clmMonLLLT(air)"
   ]
  },
  {
   "cell_type": "code",
   "execution_count": 6,
   "metadata": {},
   "outputs": [
    {
     "data": {
      "text/plain": [
       "<xarray.DataArray 'aveMonth' (level: 17, lat: 73, lon: 144, month: 12)>\n",
       "array([[[[245.98235, ..., 247.39333],\n",
       "         ...,\n",
       "         [245.98235, ..., 247.39333]],\n",
       "\n",
       "        ...,\n",
       "\n",
       "        [[266.21616, ..., 266.2981 ],\n",
       "         ...,\n",
       "         [266.21616, ..., 266.2981 ]]],\n",
       "\n",
       "\n",
       "       ...,\n",
       "\n",
       "\n",
       "       [[[212.21666, ..., 205.0924 ],\n",
       "         ...,\n",
       "         [212.21666, ..., 205.0924 ]],\n",
       "\n",
       "        ...,\n",
       "\n",
       "        [[249.37144, ..., 252.49666],\n",
       "         ...,\n",
       "         [249.37144, ..., 252.49666]]]], dtype=float32)\n",
       "Coordinates:\n",
       "  * level    (level) float32 1000.0 925.0 850.0 700.0 ... 50.0 30.0 20.0 10.0\n",
       "  * lat      (lat) float32 90.0 87.5 85.0 82.5 80.0 ... -82.5 -85.0 -87.5 -90.0\n",
       "  * lon      (lon) float32 0.0 2.5 5.0 7.5 10.0 ... 350.0 352.5 355.0 357.5\n",
       "  * month    (month) int64 1 2 3 4 5 6 7 8 9 10 11 12\n",
       "Attributes:\n",
       "    long_name:             Monthly Air Temperature on Pressure Levels\n",
       "    valid_range:           [-32765 -10260]\n",
       "    unpacked_valid_range:  [137.5 362.5]\n",
       "    actual_range:          [179.40775 315.97388]\n",
       "    units:                 degK\n",
       "    precision:             2\n",
       "    GRIB_id:               11\n",
       "    GRIB_name:             TMP\n",
       "    var_desc:              Air temperature\n",
       "    dataset:               NCEP/DOE AMIP-II Reanalysis (Reanalysis-2) Monthly...\n",
       "    level_desc:            Pressure Levels\n",
       "    statistic:             Individual Obs\n",
       "    parent_stat:           Other\n",
       "    standard_name:         air_temperature\n",
       "    cell_methods:          time: mean (monthly from 6-hourly values)\n",
       "    time_op_ncl:           Climatology: 21 years\n",
       "    info:                  function clmMonTLL"
      ]
     },
     "execution_count": 6,
     "metadata": {},
     "output_type": "execute_result"
    }
   ],
   "source": [
    "xAve"
   ]
  },
  {
   "cell_type": "code",
   "execution_count": 7,
   "metadata": {},
   "outputs": [],
   "source": [
    "def calcMonAnomLLLT(x, xAve):\n",
    "    # x is the dataarray and xAve is the monthly averages array of x\n",
    "    \n",
    "    len_of_dim = x.sizes\n",
    "    no_of_time = len_of_dim[x.dims[3]] # no_of_time = Size of time dimension\n",
    "    \n",
    "    # Check if number of months are multiple of 12; if not, exit the function\n",
    "    no_of_months = 12\n",
    "    if ((no_of_time % no_of_months) != 0):\n",
    "        print(\"month_to_season12: dimension must be a multiple of 12\")\n",
    "        return None\n",
    "    \n",
    "    # Store the time dimension name present in dataset as time variable\n",
    "    time = x.dims[3]\n",
    "    \n",
    "    # Store as a string for groupby operation\n",
    "    time_month = time + '.month'\n",
    "    \n",
    "    \n",
    "    # Calculate anomalies by subtracting monthly means from actual dataarray\n",
    "    xAnom = x.groupby(time_month) - xAve\n",
    "        \n",
    "    # Copy and update the attributes\n",
    "    xAnom.attrs = x.attrs\n",
    "    xAnom.attrs['anomaly_op_ncl'] = \"Anomalies from Annual Cycle: calcMonAnomLLLT\"\n",
    "    \n",
    "    # Drop the extra month co-ordinate from xAnom DataArray\n",
    "    xAnom = xAnom.drop('month')\n",
    "    xAnom = xAnom.rename('xAnom')\n",
    "    \n",
    "    # Return the new dataarray\n",
    "    return xAnom"
   ]
  },
  {
   "cell_type": "code",
   "execution_count": 8,
   "metadata": {},
   "outputs": [
    {
     "data": {
      "text/plain": [
       "<xarray.DataArray 'xAnom' (level: 17, lat: 73, lon: 144, time: 252)>\n",
       "array([[[[-0.732346, ...,  1.986679],\n",
       "         ...,\n",
       "         [-0.732346, ...,  1.986679]],\n",
       "\n",
       "        ...,\n",
       "\n",
       "        [[ 1.453827, ..., -2.778076],\n",
       "         ...,\n",
       "         [ 1.453827, ..., -2.778076]]],\n",
       "\n",
       "\n",
       "       ...,\n",
       "\n",
       "\n",
       "       [[[-2.21666 , ..., -6.952393],\n",
       "         ...,\n",
       "         [-2.21666 , ..., -6.952393]],\n",
       "\n",
       "        ...,\n",
       "\n",
       "        [[-4.221451, ...,  3.903336],\n",
       "         ...,\n",
       "         [-4.221451, ...,  3.903336]]]], dtype=float32)\n",
       "Coordinates:\n",
       "  * level    (level) float32 1000.0 925.0 850.0 700.0 ... 50.0 30.0 20.0 10.0\n",
       "  * lat      (lat) float32 90.0 87.5 85.0 82.5 80.0 ... -82.5 -85.0 -87.5 -90.0\n",
       "  * lon      (lon) float32 0.0 2.5 5.0 7.5 10.0 ... 350.0 352.5 355.0 357.5\n",
       "  * time     (time) datetime64[ns] 1979-01-01 1979-02-01 ... 1999-12-01\n",
       "Attributes:\n",
       "    long_name:             Monthly Air Temperature on Pressure Levels\n",
       "    valid_range:           [-32765 -10260]\n",
       "    unpacked_valid_range:  [137.5 362.5]\n",
       "    actual_range:          [179.40775 315.97388]\n",
       "    units:                 degK\n",
       "    precision:             2\n",
       "    GRIB_id:               11\n",
       "    GRIB_name:             TMP\n",
       "    var_desc:              Air temperature\n",
       "    dataset:               NCEP/DOE AMIP-II Reanalysis (Reanalysis-2) Monthly...\n",
       "    level_desc:            Pressure Levels\n",
       "    statistic:             Individual Obs\n",
       "    parent_stat:           Other\n",
       "    standard_name:         air_temperature\n",
       "    cell_methods:          time: mean (monthly from 6-hourly values)\n",
       "    anomaly_op_ncl:        Anomalies from Annual Cycle: calcMonAnomLLLT"
      ]
     },
     "execution_count": 8,
     "metadata": {},
     "output_type": "execute_result"
    }
   ],
   "source": [
    "result = calcMonAnomLLLT(air, xAve)\n",
    "result"
   ]
  },
  {
   "cell_type": "code",
   "execution_count": 9,
   "metadata": {},
   "outputs": [
    {
     "data": {
      "text/plain": [
       "<xarray.DataArray 'xAnom' (time: 12)>\n",
       "array([ 2.718094, -0.133316, -1.385254,  2.170013,  0.367142,  4.315247,\n",
       "       -0.619553, -2.814774,  1.546646,  1.665253, -0.588089,  0.71666 ],\n",
       "      dtype=float32)\n",
       "Coordinates:\n",
       "    level    float32 30.0\n",
       "    lat      float32 55.0\n",
       "    lon      float32 35.0\n",
       "  * time     (time) datetime64[ns] 1979-01-01 1979-06-01 ... 1983-08-01\n",
       "Attributes:\n",
       "    long_name:             Monthly Air Temperature on Pressure Levels\n",
       "    valid_range:           [-32765 -10260]\n",
       "    unpacked_valid_range:  [137.5 362.5]\n",
       "    actual_range:          [179.40775 315.97388]\n",
       "    units:                 degK\n",
       "    precision:             2\n",
       "    GRIB_id:               11\n",
       "    GRIB_name:             TMP\n",
       "    var_desc:              Air temperature\n",
       "    dataset:               NCEP/DOE AMIP-II Reanalysis (Reanalysis-2) Monthly...\n",
       "    level_desc:            Pressure Levels\n",
       "    statistic:             Individual Obs\n",
       "    parent_stat:           Other\n",
       "    standard_name:         air_temperature\n",
       "    cell_methods:          time: mean (monthly from 6-hourly values)\n",
       "    anomaly_op_ncl:        Anomalies from Annual Cycle: calcMonAnomLLLT"
      ]
     },
     "execution_count": 9,
     "metadata": {},
     "output_type": "execute_result"
    }
   ],
   "source": [
    "result[14,14,14,0:60:5]"
   ]
  },
  {
   "cell_type": "code",
   "execution_count": null,
   "metadata": {},
   "outputs": [],
   "source": []
  }
 ],
 "metadata": {
  "kernelspec": {
   "display_name": "Python 3",
   "language": "python",
   "name": "python3"
  },
  "language_info": {
   "codemirror_mode": {
    "name": "ipython",
    "version": 3
   },
   "file_extension": ".py",
   "mimetype": "text/x-python",
   "name": "python",
   "nbconvert_exporter": "python",
   "pygments_lexer": "ipython3",
   "version": "3.7.3"
  }
 },
 "nbformat": 4,
 "nbformat_minor": 2
}
