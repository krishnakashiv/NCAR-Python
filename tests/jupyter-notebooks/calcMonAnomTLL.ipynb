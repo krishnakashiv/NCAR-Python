{
 "cells": [
  {
   "cell_type": "code",
   "execution_count": 1,
   "metadata": {},
   "outputs": [],
   "source": [
    "import warnings\n",
    "warnings.filterwarnings('ignore')\n",
    "\n",
    "import numpy as np\n",
    "import pandas as pd\n",
    "import xarray as xr"
   ]
  },
  {
   "cell_type": "code",
   "execution_count": 2,
   "metadata": {},
   "outputs": [
    {
     "data": {
      "text/plain": [
       "<xarray.Dataset>\n",
       "Dimensions:  (lat: 180, lon: 360, time: 120)\n",
       "Coordinates:\n",
       "  * lon      (lon) float32 -179.5 -178.5 -177.5 -176.5 ... 177.5 178.5 179.5\n",
       "  * lat      (lat) float32 89.5 88.5 87.5 86.5 85.5 ... -86.5 -87.5 -88.5 -89.5\n",
       "  * time     (time) datetime64[ns] 1970-01-01T12:00:00 ... 1979-12-01T12:00:00\n",
       "Data variables:\n",
       "    sst      (time, lat, lon) float32 ...\n",
       "Attributes:\n",
       "    Conventions:                CF-1.0\n",
       "    title:                      Monthly version of HadISST sea surface temper...\n",
       "    institution:                Met Office, Hadley Centre for Climate Research\n",
       "    source:                     HadISST\n",
       "    history:                    09/11/2006 HadISST converted to NetCDF from p...\n",
       "    references:                 Rayner, N. A., Parker, D. E., Horton, E. B., ...\n",
       "    comment:                    Data restrictions: for academic research use ...\n",
       "    supplementary_information:  Updates and supplementary information will be...\n",
       "    contact:                    john.kennedy@metoffice.gov.uk"
      ]
     },
     "execution_count": 2,
     "metadata": {},
     "output_type": "execute_result"
    }
   ],
   "source": [
    "path = \"sst1970-1979.nc\"\n",
    "\n",
    "ds = xr.open_dataset(path)\n",
    "ds"
   ]
  },
  {
   "cell_type": "code",
   "execution_count": 3,
   "metadata": {},
   "outputs": [
    {
     "data": {
      "text/plain": [
       "<xarray.DataArray 'sst' (time: 120, lat: 180, lon: 360)>\n",
       "[7776000 values with dtype=float32]\n",
       "Coordinates:\n",
       "  * lon      (lon) float32 -179.5 -178.5 -177.5 -176.5 ... 177.5 178.5 179.5\n",
       "  * lat      (lat) float32 89.5 88.5 87.5 86.5 85.5 ... -86.5 -87.5 -88.5 -89.5\n",
       "  * time     (time) datetime64[ns] 1970-01-01T12:00:00 ... 1979-12-01T12:00:00\n",
       "Attributes:\n",
       "    long_name:     Monthly 1 degree resolution SST\n",
       "    units:         degrees C\n",
       "    actual_range:  [-1000.         33.53844]\n",
       "    description:   HadISST sea surface temperature. values of -1000 indicate ..."
      ]
     },
     "execution_count": 3,
     "metadata": {},
     "output_type": "execute_result"
    }
   ],
   "source": [
    "sst = ds['sst']\n",
    "sst"
   ]
  },
  {
   "cell_type": "code",
   "execution_count": 4,
   "metadata": {},
   "outputs": [],
   "source": [
    "def clmMonTLL(x):\n",
    "    \n",
    "    # Calculate the sizes of time dimension\n",
    "    len_of_dim = x.sizes\n",
    "    time_size = len_of_dim[x.dims[0]]\n",
    "    rank = len(len_of_dim)\n",
    "\n",
    "    # Check if rank of dataarray matches the function\n",
    "    if (rank != 3):\n",
    "        print(\"Expected variable of rank = 3, recieved rank = {}\".format(rank))\n",
    "        return None\n",
    "    \n",
    "    # Check if number of months are multiple of 12; if not, exit the function\n",
    "    no_of_months = 12\n",
    "    if ((time_size % no_of_months) != 0):\n",
    "        print(\"clmMonTLL: dimension must be a multiple of 12\")\n",
    "        return None\n",
    "    \n",
    "    # Get the sizes of latitude and longitude dimension\n",
    "    lat_size = len_of_dim[x.dims[1]]\n",
    "    lon_size = len_of_dim[x.dims[2]]\n",
    "    \n",
    "    # Store the time dimension name present in dataset as time variable\n",
    "    time = x.dims[0]\n",
    "    \n",
    "    # Store as a string for groupby operation\n",
    "    time_month = time + '.month'\n",
    "    \n",
    "    # Compute 12 months average\n",
    "    ave_month = x.groupby(time_month).mean(time)\n",
    "    \n",
    "    # Copy and update the attributes\n",
    "    ave_month.attrs = x.attrs\n",
    "    ave_month = ave_month.rename(\"aveMonth\")\n",
    "    ave_month.attrs['time_op_ncl'] = \"Climatology: \" + str(int(time_size/no_of_months)) + \" years\"\n",
    "    ave_month.attrs['info'] = \"function clmMonTLL\"\n",
    "    \n",
    "    # Return the results\n",
    "    return ave_month"
   ]
  },
  {
   "cell_type": "code",
   "execution_count": null,
   "metadata": {},
   "outputs": [],
   "source": []
  },
  {
   "cell_type": "code",
   "execution_count": 5,
   "metadata": {},
   "outputs": [],
   "source": [
    "def calcMonAnom(x, xAve):\n",
    "    # x is the dataarray and xAve is the monthly averages array of x\n",
    "    \n",
    "    len_of_dim = x.sizes\n",
    "    no_of_time = len_of_dim[x.dims[0]] # no_of_time = Size of time dimension\n",
    "    rank = len(len_of_dim)\n",
    "\n",
    "    # Check if rank of dataarray matches the function\n",
    "    if (rank != 3):\n",
    "        print(\"Expected variable of rank = 3, recieved rank = {}\".format(rank))\n",
    "        return None\n",
    "    \n",
    "    \n",
    "    # Check if number of months are multiple of 12; if not, exit the function\n",
    "    no_of_months = 12\n",
    "    if ((no_of_time % no_of_months) != 0):\n",
    "        print(\"calcMonAnom: dimension must be a multiple of 12\")\n",
    "        return None\n",
    "    \n",
    "    # Store the time dimension name present in dataset as time variable\n",
    "    time = x.dims[0]\n",
    "    \n",
    "    # Store as a string for groupby operation\n",
    "    time_month = time + '.month'\n",
    "    \n",
    "    \n",
    "    # Calculate anomalies by subtracting monthly means from actual dataarray\n",
    "    xAnom = x.groupby(time_month) - xAve\n",
    "        \n",
    "    # Copy and update the attributes\n",
    "    xAnom.attrs = x.attrs\n",
    "    xAnom.attrs['anomaly_op_ncl'] = \"Anomalies from Annual Cycle: calcMonAnomTLL\"\n",
    "    \n",
    "    # Drop the extra month co-ordinate from xAnom DataArray\n",
    "    xAnom = xAnom.drop('month')\n",
    "    xAnom = xAnom.rename('xAnom')\n",
    "    #xAnom = xAnom.to_dataset()\n",
    "    \n",
    "    # Return the new dataarray\n",
    "    return xAnom"
   ]
  },
  {
   "cell_type": "code",
   "execution_count": null,
   "metadata": {},
   "outputs": [],
   "source": []
  },
  {
   "cell_type": "code",
   "execution_count": 6,
   "metadata": {},
   "outputs": [],
   "source": [
    "xAve = clmMonTLL(sst)"
   ]
  },
  {
   "cell_type": "code",
   "execution_count": 7,
   "metadata": {
    "scrolled": true
   },
   "outputs": [
    {
     "data": {
      "text/plain": [
       "<xarray.DataArray 'aveMonth' (month: 12, lat: 180, lon: 360)>\n",
       "array([[[-900.18, -900.18, ..., -900.18, -900.18],\n",
       "        [-900.18, -900.18, ..., -900.18, -900.18],\n",
       "        ...,\n",
       "        [    nan,     nan, ...,     nan,     nan],\n",
       "        [    nan,     nan, ...,     nan,     nan]],\n",
       "\n",
       "       [[-900.18, -900.18, ..., -900.18, -900.18],\n",
       "        [-900.18, -900.18, ..., -900.18, -900.18],\n",
       "        ...,\n",
       "        [    nan,     nan, ...,     nan,     nan],\n",
       "        [    nan,     nan, ...,     nan,     nan]],\n",
       "\n",
       "       ...,\n",
       "\n",
       "       [[-900.18, -900.18, ..., -900.18, -900.18],\n",
       "        [-800.36, -800.36, ..., -800.36, -800.36],\n",
       "        ...,\n",
       "        [    nan,     nan, ...,     nan,     nan],\n",
       "        [    nan,     nan, ...,     nan,     nan]],\n",
       "\n",
       "       [[-900.18, -900.18, ..., -900.18, -900.18],\n",
       "        [-800.36, -800.36, ..., -800.36, -800.36],\n",
       "        ...,\n",
       "        [    nan,     nan, ...,     nan,     nan],\n",
       "        [    nan,     nan, ...,     nan,     nan]]], dtype=float32)\n",
       "Coordinates:\n",
       "  * lon      (lon) float32 -179.5 -178.5 -177.5 -176.5 ... 177.5 178.5 179.5\n",
       "  * lat      (lat) float32 89.5 88.5 87.5 86.5 85.5 ... -86.5 -87.5 -88.5 -89.5\n",
       "  * month    (month) int64 1 2 3 4 5 6 7 8 9 10 11 12\n",
       "Attributes:\n",
       "    long_name:     Monthly 1 degree resolution SST\n",
       "    units:         degrees C\n",
       "    actual_range:  [-1000.         33.53844]\n",
       "    description:   HadISST sea surface temperature. values of -1000 indicate ...\n",
       "    time_op_ncl:   Climatology: 10 years\n",
       "    info:          function clmMonTLL"
      ]
     },
     "execution_count": 7,
     "metadata": {},
     "output_type": "execute_result"
    }
   ],
   "source": [
    "xAve"
   ]
  },
  {
   "cell_type": "code",
   "execution_count": 8,
   "metadata": {},
   "outputs": [],
   "source": [
    "result = calcMonAnom(sst, xAve)"
   ]
  },
  {
   "cell_type": "code",
   "execution_count": 9,
   "metadata": {},
   "outputs": [
    {
     "data": {
      "text/plain": [
       "<xarray.DataArray 'xAnom' (time: 120, lat: 180, lon: 360)>\n",
       "array([[[ -99.82001,  -99.82001, ...,  -99.82001,  -99.82001],\n",
       "        [ -99.82001,  -99.82001, ...,  -99.82001,  -99.82001],\n",
       "        ...,\n",
       "        [       nan,        nan, ...,        nan,        nan],\n",
       "        [       nan,        nan, ...,        nan,        nan]],\n",
       "\n",
       "       [[ -99.82001,  -99.82001, ...,  -99.82001,  -99.82001],\n",
       "        [ -99.82001,  -99.82001, ...,  -99.82001,  -99.82001],\n",
       "        ...,\n",
       "        [       nan,        nan, ...,        nan,        nan],\n",
       "        [       nan,        nan, ...,        nan,        nan]],\n",
       "\n",
       "       ...,\n",
       "\n",
       "       [[ -99.82001,  -99.82001, ...,  -99.82001,  -99.82001],\n",
       "        [-199.64001, -199.64001, ..., -199.64001, -199.64001],\n",
       "        ...,\n",
       "        [       nan,        nan, ...,        nan,        nan],\n",
       "        [       nan,        nan, ...,        nan,        nan]],\n",
       "\n",
       "       [[ -99.82001,  -99.82001, ...,  -99.82001,  -99.82001],\n",
       "        [-199.64001, -199.64001, ..., -199.64001, -199.64001],\n",
       "        ...,\n",
       "        [       nan,        nan, ...,        nan,        nan],\n",
       "        [       nan,        nan, ...,        nan,        nan]]], dtype=float32)\n",
       "Coordinates:\n",
       "  * lon      (lon) float32 -179.5 -178.5 -177.5 -176.5 ... 177.5 178.5 179.5\n",
       "  * lat      (lat) float32 89.5 88.5 87.5 86.5 85.5 ... -86.5 -87.5 -88.5 -89.5\n",
       "  * time     (time) datetime64[ns] 1970-01-01T12:00:00 ... 1979-12-01T12:00:00\n",
       "Attributes:\n",
       "    long_name:       Monthly 1 degree resolution SST\n",
       "    units:           degrees C\n",
       "    actual_range:    [-1000.         33.53844]\n",
       "    description:     HadISST sea surface temperature. values of -1000 indicat...\n",
       "    anomaly_op_ncl:  Anomalies from Annual Cycle: calcMonAnomTLL"
      ]
     },
     "execution_count": 9,
     "metadata": {},
     "output_type": "execute_result"
    }
   ],
   "source": [
    "result"
   ]
  },
  {
   "cell_type": "code",
   "execution_count": 10,
   "metadata": {
    "scrolled": true
   },
   "outputs": [
    {
     "data": {
      "text/plain": [
       "<xarray.DataArray 'xAnom' (time: 10)>\n",
       "array([ 0.563919, -2.808434, -0.202984,  1.435978, -0.6576  , -0.732443,\n",
       "       -0.595802,  1.451853,  0.552422,  0.993099], dtype=float32)\n",
       "Coordinates:\n",
       "    lon      float32 -80.5\n",
       "    lat      float32 -9.5\n",
       "  * time     (time) datetime64[ns] 1970-01-01T12:00:00 ... 1979-01-01T12:00:00\n",
       "Attributes:\n",
       "    long_name:       Monthly 1 degree resolution SST\n",
       "    units:           degrees C\n",
       "    actual_range:    [-1000.         33.53844]\n",
       "    description:     HadISST sea surface temperature. values of -1000 indicat...\n",
       "    anomaly_op_ncl:  Anomalies from Annual Cycle: calcMonAnomTLL"
      ]
     },
     "execution_count": 10,
     "metadata": {},
     "output_type": "execute_result"
    }
   ],
   "source": [
    "result[0:120:12,99,99]"
   ]
  },
  {
   "cell_type": "code",
   "execution_count": null,
   "metadata": {},
   "outputs": [],
   "source": []
  }
 ],
 "metadata": {
  "kernelspec": {
   "display_name": "Python 3",
   "language": "python",
   "name": "python3"
  },
  "language_info": {
   "codemirror_mode": {
    "name": "ipython",
    "version": 3
   },
   "file_extension": ".py",
   "mimetype": "text/x-python",
   "name": "python",
   "nbconvert_exporter": "python",
   "pygments_lexer": "ipython3",
   "version": "3.7.3"
  }
 },
 "nbformat": 4,
 "nbformat_minor": 2
}
