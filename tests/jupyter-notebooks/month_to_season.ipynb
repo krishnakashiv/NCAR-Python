{
 "cells": [
  {
   "cell_type": "code",
   "execution_count": 1,
   "metadata": {},
   "outputs": [],
   "source": [
    "# ignore warnings\n",
    "import warnings\n",
    "warnings.filterwarnings('ignore')\n",
    "\n",
    "# import necessary libraries\n",
    "import numpy as np\n",
    "import pandas as pd\n",
    "import xarray as xr"
   ]
  },
  {
   "cell_type": "code",
   "execution_count": 2,
   "metadata": {},
   "outputs": [
    {
     "name": "stdout",
     "output_type": "stream",
     "text": [
      "<xarray.Dataset>\n",
      "Dimensions:  (lat: 180, lon: 360, time: 120)\n",
      "Coordinates:\n",
      "  * lon      (lon) float32 -179.5 -178.5 -177.5 -176.5 ... 177.5 178.5 179.5\n",
      "  * lat      (lat) float32 89.5 88.5 87.5 86.5 85.5 ... -86.5 -87.5 -88.5 -89.5\n",
      "  * time     (time) datetime64[ns] 1970-01-01T12:00:00 ... 1979-12-01T12:00:00\n",
      "Data variables:\n",
      "    sst      (time, lat, lon) float32 ...\n",
      "Attributes:\n",
      "    Conventions:                CF-1.0\n",
      "    title:                      Monthly version of HadISST sea surface temper...\n",
      "    institution:                Met Office, Hadley Centre for Climate Research\n",
      "    source:                     HadISST\n",
      "    history:                    09/11/2006 HadISST converted to NetCDF from p...\n",
      "    references:                 Rayner, N. A., Parker, D. E., Horton, E. B., ...\n",
      "    comment:                    Data restrictions: for academic research use ...\n",
      "    supplementary_information:  Updates and supplementary information will be...\n",
      "    contact:                    john.kennedy@metoffice.gov.uk\n"
     ]
    }
   ],
   "source": [
    "# Open the dataset\n",
    "path = \"/home/jatin/Downloads/sst1970-1979.nc\"\n",
    "ds = xr.open_dataset(path)\n",
    "\n",
    "print(ds)"
   ]
  },
  {
   "cell_type": "code",
   "execution_count": 3,
   "metadata": {},
   "outputs": [
    {
     "name": "stdout",
     "output_type": "stream",
     "text": [
      "<xarray.DataArray 'sst' (time: 120, lat: 180, lon: 360)>\n",
      "[7776000 values with dtype=float32]\n",
      "Coordinates:\n",
      "  * lon      (lon) float32 -179.5 -178.5 -177.5 -176.5 ... 177.5 178.5 179.5\n",
      "  * lat      (lat) float32 89.5 88.5 87.5 86.5 85.5 ... -86.5 -87.5 -88.5 -89.5\n",
      "  * time     (time) datetime64[ns] 1970-01-01T12:00:00 ... 1979-12-01T12:00:00\n",
      "Attributes:\n",
      "    long_name:     Monthly 1 degree resolution SST\n",
      "    units:         degrees C\n",
      "    actual_range:  [-1000.         33.53844]\n",
      "    description:   HadISST sea surface temperature. values of -1000 indicate ...\n"
     ]
    }
   ],
   "source": [
    "# Extract the data variable\n",
    "sst = ds['sst']\n",
    "print(sst)"
   ]
  },
  {
   "cell_type": "code",
   "execution_count": 114,
   "metadata": {},
   "outputs": [],
   "source": [
    "def month_to_season(xMon, SEASON):\n",
    "    \n",
    "    # xMon is the DataArray and SEASON is the season passed as an argument\n",
    "    \n",
    "    # Create a new array of seasons\n",
    "    season = np.array([\"DJF\",\"JFM\",\"FMA\",\"MAM\",\"AMJ\",\"MJJ\",\"JJA\",\"JAS\",\"ASO\",\"SON\",\"OND\",\"NDJ\"])\n",
    "    \n",
    "    # Check if the season argument passed is valid or not\n",
    "    if SEASON not in season:\n",
    "        print(\"month_to_season: bad season: SEASON={}\".format(SEASON))\n",
    "        return None\n",
    "    else:\n",
    "        NMO_tup = np.where(season==SEASON)\n",
    "        NMO = NMO_tup[0].item()\n",
    "    \n",
    "    # Get the rank of dataarray\n",
    "    len_of_dim = xMon.sizes\n",
    "    rank_of_dim = len(len_of_dim)\n",
    "    \n",
    "    # Check if the rank of dim is valid or invalid\n",
    "    if (rank_of_dim == 2 or rank_of_dim >= 5):\n",
    "        print(\"month_to_season12: rank = {}\".format(rank_of_dim))\n",
    "        print(\"----- rank currently not handled -----\")\n",
    "        return None\n",
    "    \n",
    "    # Check if number of months are multiple of 12\n",
    "    no_of_months = 12\n",
    "    no_of_time = len_of_dim[xMon.dims[0]]\n",
    "    if ((no_of_time % no_of_months) != 0):\n",
    "        print(\"month_to_season12: dimension must be a multiple of 12\")\n",
    "        return None\n",
    "   \n",
    "    \n",
    "    # Store the size of latitude and longitude\n",
    "    if (rank_of_dim >= 3):\n",
    "        size_of_lat = len_of_dim[xMon.dims[rank_of_dim-2]]\n",
    "        size_of_lon = len_of_dim[xMon.dims[rank_of_dim-1]]\n",
    "    \n",
    "    # Calculate number of years\n",
    "    no_of_years = int(no_of_time/no_of_months)\n",
    "    con = 1./3.\n",
    "    \n",
    "    # Starting and ending years\n",
    "    no_year_start = 0\n",
    "    no_year_last = no_of_years - 1\n",
    "    if (NMO == 0):\n",
    "        no_year_start = 1\n",
    "    elif (NMO == (no_of_months-1)):\n",
    "        no_year_last = no_of_years - 2\n",
    "    \n",
    "    # Create a copy of new dataarray using the existing one\n",
    "    da_new = xMon.copy(deep = True, data = None)\n",
    "    \n",
    "    # For rank = 1\n",
    "    if (rank_of_dim == 1):\n",
    "        for nyr in range(no_year_start, (no_year_last+1)):\n",
    "            n = nyr * no_of_months + NMO\n",
    "            da_new[n] = (xMon[n-1] + xMon[n] + xMon[n+1]) * con\n",
    "        \n",
    "        if (NMO == 0):\n",
    "            n = 0\n",
    "            da_new[n] = (xMon[n] + xMon[n+1])*0.5\n",
    "        \n",
    "        if (NMO == (nmos-1)):\n",
    "            n = (no_of_years-1)*no_of_months + NMO\n",
    "            da_new[n] = (xMon[n] + xMon[n-1])*0.5\n",
    "\n",
    "        da_new = da_new[NMO:no_of_time:no_of_months]               \n",
    "        \n",
    "    # For rank = 3\n",
    "    if (rank_of_dim == 3):\n",
    "        for nyr in range(no_year_start, (no_year_last+1)):\n",
    "            n = nyr*no_of_months + NMO\n",
    "            da_new[n,:,:] = (xMon[(n-1),:,:] + xMon[n,:,:] + xMon[(n+1),:,:]) * con\n",
    "        \n",
    "        if (NMO == 0):\n",
    "            n = 0\n",
    "            da_new[n,:,:] = (xMon[n,:,:] + xMon[(n+1),:,:])*0.5\n",
    "        \n",
    "        if (NMO == (no_of_months-1)):\n",
    "            n = (no_of_years-1)*no_of_months + NMO\n",
    "            da_new[n,:,:] = (xMon[n,:,:] + xMon[(n-1),:,:])*0.5\n",
    "        \n",
    "        da_new = da_new[NMO:no_of_time:no_of_months,:,:]\n",
    "\n",
    "    \n",
    "    # For rank = 4\n",
    "    if (rank_of_dim == 4):\n",
    "        for nyr in range(no_year_start, (no_year_last+1)):\n",
    "            n = nyr*no_of_months + NMO\n",
    "            da_new[n,:,:,:] = (xMon[(n-1),:,:,:] + xMon[n,:,:,:] + xMon[(n+1),:,:,:]) * con\n",
    "        \n",
    "        if (NMO == 0):\n",
    "            n = 0\n",
    "            da_new[0,:,:,:] = (xMon[n,:,:,:] + xMon[(n+1),:,:,:])*0.5\n",
    "        \n",
    "        if (NMO == (nmos-1)):\n",
    "            n = (no_of_years-1)*no_of_months + NMO\n",
    "            da_new[(n),:,:,:] = (xMon[n,:,:,:] + xMon[(n-1),:,:,:])*0.5\n",
    "        \n",
    "        da_new = da_new[NMO:no_of_time:no_of_months,:,:,:]\n",
    "                                  \n",
    "        \n",
    "    # Add and update the attributes\n",
    "    da_new = da_new.rename(\"x\"+SEASON)\n",
    "    da_new.attrs['NMO'] = NMO\n",
    "    da_new.attrs['long_name'] = SEASON + \": \" + da_new.attrs['long_name']\n",
    "      \n",
    "    # Return the newly created DataArray\n",
    "    return da_new\n",
    "    "
   ]
  },
  {
   "cell_type": "code",
   "execution_count": 115,
   "metadata": {},
   "outputs": [],
   "source": [
    "xJJA = month_to_season(sst,\"JJA\")"
   ]
  },
  {
   "cell_type": "code",
   "execution_count": 116,
   "metadata": {},
   "outputs": [
    {
     "data": {
      "text/plain": [
       "<xarray.DataArray 'xJJA' (time: 10, lat: 180, lon: 360)>\n",
       "array([[[ -667.2667 ,  -334.53333, ...,  -667.2667 ,  -667.2667 ],\n",
       "        [   -1.8    ,    -1.8    , ...,    -1.8    ,    -1.8    ],\n",
       "        ...,\n",
       "        [        nan,         nan, ...,         nan,         nan],\n",
       "        [        nan,         nan, ...,         nan,         nan]],\n",
       "\n",
       "       [[ -667.2667 ,  -334.53333, ...,  -667.2667 ,  -667.2667 ],\n",
       "        [   -1.8    ,    -1.8    , ...,    -1.8    ,    -1.8    ],\n",
       "        ...,\n",
       "        [        nan,         nan, ...,         nan,         nan],\n",
       "        [        nan,         nan, ...,         nan,         nan]],\n",
       "\n",
       "       ...,\n",
       "\n",
       "       [[ -667.2667 ,  -334.53333, ...,  -667.2667 ,  -667.2667 ],\n",
       "        [   -1.8    ,    -1.8    , ...,    -1.8    ,    -1.8    ],\n",
       "        ...,\n",
       "        [        nan,         nan, ...,         nan,         nan],\n",
       "        [        nan,         nan, ...,         nan,         nan]],\n",
       "\n",
       "       [[-1000.     , -1000.     , ..., -1000.     , -1000.     ],\n",
       "        [ -334.53333,  -334.53333, ...,  -334.53333,  -334.53333],\n",
       "        ...,\n",
       "        [        nan,         nan, ...,         nan,         nan],\n",
       "        [        nan,         nan, ...,         nan,         nan]]],\n",
       "      dtype=float32)\n",
       "Coordinates:\n",
       "  * lon      (lon) float32 -179.5 -178.5 -177.5 -176.5 ... 177.5 178.5 179.5\n",
       "  * lat      (lat) float32 89.5 88.5 87.5 86.5 85.5 ... -86.5 -87.5 -88.5 -89.5\n",
       "  * time     (time) datetime64[ns] 1970-07-01T12:00:00 ... 1979-07-01T12:00:00\n",
       "Attributes:\n",
       "    long_name:     JJA: Monthly 1 degree resolution SST\n",
       "    units:         degrees C\n",
       "    actual_range:  [-1000.         33.53844]\n",
       "    description:   HadISST sea surface temperature. values of -1000 indicate ...\n",
       "    NMO:           6"
      ]
     },
     "execution_count": 116,
     "metadata": {},
     "output_type": "execute_result"
    }
   ],
   "source": [
    "xJJA"
   ]
  },
  {
   "cell_type": "code",
   "execution_count": null,
   "metadata": {},
   "outputs": [],
   "source": []
  }
 ],
 "metadata": {
  "kernelspec": {
   "display_name": "Python 3",
   "language": "python",
   "name": "python3"
  },
  "language_info": {
   "codemirror_mode": {
    "name": "ipython",
    "version": 3
   },
   "file_extension": ".py",
   "mimetype": "text/x-python",
   "name": "python",
   "nbconvert_exporter": "python",
   "pygments_lexer": "ipython3",
   "version": "3.7.3"
  }
 },
 "nbformat": 4,
 "nbformat_minor": 2
}
