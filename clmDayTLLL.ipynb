{
 "cells": [
  {
   "cell_type": "code",
   "execution_count": 1,
   "metadata": {},
   "outputs": [],
   "source": [
    "import warnings\n",
    "warnings.filterwarnings('ignore')\n",
    "\n",
    "import numpy as np\n",
    "import pandas as pd\n",
    "import xarray as xr\n"
   ]
  },
  {
   "cell_type": "code",
   "execution_count": 4,
   "metadata": {},
   "outputs": [
    {
     "data": {
      "text/html": [
       "<pre>&lt;xarray.Dataset&gt;\n",
       "Dimensions:  (lat: 73, level: 17, lon: 144, time: 3287)\n",
       "Coordinates:\n",
       "  * level    (level) float32 1000.0 925.0 850.0 700.0 ... 50.0 30.0 20.0 10.0\n",
       "  * lon      (lon) float32 0.0 2.5 5.0 7.5 10.0 ... 350.0 352.5 355.0 357.5\n",
       "  * lat      (lat) float32 90.0 87.5 85.0 82.5 80.0 ... -82.5 -85.0 -87.5 -90.0\n",
       "  * time     (time) datetime64[ns] 2002-01-01 2002-01-02 ... 2010-12-31\n",
       "Data variables:\n",
       "    air      (time, level, lat, lon) float32 dask.array&lt;chunksize=(365, 17, 73, 144), meta=np.ndarray&gt;\n",
       "Attributes:\n",
       "    Conventions:    COARDS\n",
       "    title:          mean daily NMC reanalysis (2002)\n",
       "    description:    Data is from NMC initialized reanalysis\\n(4x/day).  It co...\n",
       "    platform:       Model\n",
       "    history:        created 03/08/18 by Hoop (netCDF2.3)\\nConverted to chunke...\n",
       "    References:     http://www.esrl.noaa.gov/psd/data/gridded/data.ncep.reana...\n",
       "    dataset_title:  NCEP-NCAR Reanalysis 1</pre>"
      ],
      "text/plain": [
       "<xarray.Dataset>\n",
       "Dimensions:  (lat: 73, level: 17, lon: 144, time: 3287)\n",
       "Coordinates:\n",
       "  * level    (level) float32 1000.0 925.0 850.0 700.0 ... 50.0 30.0 20.0 10.0\n",
       "  * lon      (lon) float32 0.0 2.5 5.0 7.5 10.0 ... 350.0 352.5 355.0 357.5\n",
       "  * lat      (lat) float32 90.0 87.5 85.0 82.5 80.0 ... -82.5 -85.0 -87.5 -90.0\n",
       "  * time     (time) datetime64[ns] 2002-01-01 2002-01-02 ... 2010-12-31\n",
       "Data variables:\n",
       "    air      (time, level, lat, lon) float32 dask.array<chunksize=(365, 17, 73, 144), meta=np.ndarray>\n",
       "Attributes:\n",
       "    Conventions:    COARDS\n",
       "    title:          mean daily NMC reanalysis (2002)\n",
       "    description:    Data is from NMC initialized reanalysis\\n(4x/day).  It co...\n",
       "    platform:       Model\n",
       "    history:        created 03/08/18 by Hoop (netCDF2.3)\\nConverted to chunke...\n",
       "    References:     http://www.esrl.noaa.gov/psd/data/gridded/data.ncep.reana...\n",
       "    dataset_title:  NCEP-NCAR Reanalysis 1"
      ]
     },
     "execution_count": 4,
     "metadata": {},
     "output_type": "execute_result"
    }
   ],
   "source": [
    "path = \"/home/mpiuser/Datasets/air.*.nc\"\n",
    "\n",
    "ds = xr.open_mfdataset(path)\n",
    "ds"
   ]
  },
  {
   "cell_type": "code",
   "execution_count": 5,
   "metadata": {},
   "outputs": [
    {
     "data": {
      "text/html": [
       "<pre>&lt;xarray.DataArray &#x27;air&#x27; (time: 3287, level: 17, lat: 73, lon: 144)&gt;\n",
       "dask.array&lt;concatenate, shape=(3287, 17, 73, 144), dtype=float32, chunksize=(366, 17, 73, 144), chunktype=numpy.ndarray&gt;\n",
       "Coordinates:\n",
       "  * level    (level) float32 1000.0 925.0 850.0 700.0 ... 50.0 30.0 20.0 10.0\n",
       "  * lon      (lon) float32 0.0 2.5 5.0 7.5 10.0 ... 350.0 352.5 355.0 357.5\n",
       "  * lat      (lat) float32 90.0 87.5 85.0 82.5 80.0 ... -82.5 -85.0 -87.5 -90.0\n",
       "  * time     (time) datetime64[ns] 2002-01-01 2002-01-02 ... 2010-12-31\n",
       "Attributes:\n",
       "    long_name:    mean Daily Air temperature\n",
       "    units:        degK\n",
       "    precision:    2\n",
       "    GRIB_id:      11\n",
       "    GRIB_name:    TMP\n",
       "    var_desc:     Air temperature\n",
       "    dataset:      NCEP Reanalysis Daily Averages\n",
       "    level_desc:   Multiple levels\n",
       "    statistic:    Mean\n",
       "    parent_stat:  Individual Obs\n",
       "    valid_range:  [150. 350.]</pre>"
      ],
      "text/plain": [
       "<xarray.DataArray 'air' (time: 3287, level: 17, lat: 73, lon: 144)>\n",
       "dask.array<concatenate, shape=(3287, 17, 73, 144), dtype=float32, chunksize=(366, 17, 73, 144), chunktype=numpy.ndarray>\n",
       "Coordinates:\n",
       "  * level    (level) float32 1000.0 925.0 850.0 700.0 ... 50.0 30.0 20.0 10.0\n",
       "  * lon      (lon) float32 0.0 2.5 5.0 7.5 10.0 ... 350.0 352.5 355.0 357.5\n",
       "  * lat      (lat) float32 90.0 87.5 85.0 82.5 80.0 ... -82.5 -85.0 -87.5 -90.0\n",
       "  * time     (time) datetime64[ns] 2002-01-01 2002-01-02 ... 2010-12-31\n",
       "Attributes:\n",
       "    long_name:    mean Daily Air temperature\n",
       "    units:        degK\n",
       "    precision:    2\n",
       "    GRIB_id:      11\n",
       "    GRIB_name:    TMP\n",
       "    var_desc:     Air temperature\n",
       "    dataset:      NCEP Reanalysis Daily Averages\n",
       "    level_desc:   Multiple levels\n",
       "    statistic:    Mean\n",
       "    parent_stat:  Individual Obs\n",
       "    valid_range:  [150. 350.]"
      ]
     },
     "execution_count": 5,
     "metadata": {},
     "output_type": "execute_result"
    }
   ],
   "source": [
    "air=ds[\"air\"]\n",
    "air"
   ]
  },
  {
   "cell_type": "code",
   "execution_count": 16,
   "metadata": {},
   "outputs": [],
   "source": [
    "len_of_dim = air.sizes\n",
    "time_size = len_of_dim[air.dims[0]]\n",
    "rank = len(len_of_dim)\n"
   ]
  },
  {
   "cell_type": "code",
   "execution_count": 18,
   "metadata": {},
   "outputs": [],
   "source": [
    " if (rank != 4):\n",
    "        print(\"Expected variable of rank = 3, recieved rank = {}\".format(rank))\n",
    "      \n",
    "    "
   ]
  },
  {
   "cell_type": "code",
   "execution_count": 25,
   "metadata": {},
   "outputs": [
    {
     "data": {
      "text/html": [
       "<pre>&lt;xarray.DataArray &#x27;air&#x27; (dayofyear: 366, level: 17, lat: 73, lon: 144)&gt;\n",
       "dask.array&lt;stack, shape=(366, 17, 73, 144), dtype=float32, chunksize=(1, 17, 73, 144), chunktype=numpy.ndarray&gt;\n",
       "Coordinates:\n",
       "  * level      (level) float32 1000.0 925.0 850.0 700.0 ... 50.0 30.0 20.0 10.0\n",
       "  * lon        (lon) float32 0.0 2.5 5.0 7.5 10.0 ... 350.0 352.5 355.0 357.5\n",
       "  * lat        (lat) float32 90.0 87.5 85.0 82.5 ... -82.5 -85.0 -87.5 -90.0\n",
       "  * dayofyear  (dayofyear) int64 1 2 3 4 5 6 7 8 ... 360 361 362 363 364 365 366</pre>"
      ],
      "text/plain": [
       "<xarray.DataArray 'air' (dayofyear: 366, level: 17, lat: 73, lon: 144)>\n",
       "dask.array<stack, shape=(366, 17, 73, 144), dtype=float32, chunksize=(1, 17, 73, 144), chunktype=numpy.ndarray>\n",
       "Coordinates:\n",
       "  * level      (level) float32 1000.0 925.0 850.0 700.0 ... 50.0 30.0 20.0 10.0\n",
       "  * lon        (lon) float32 0.0 2.5 5.0 7.5 10.0 ... 350.0 352.5 355.0 357.5\n",
       "  * lat        (lat) float32 90.0 87.5 85.0 82.5 ... -82.5 -85.0 -87.5 -90.0\n",
       "  * dayofyear  (dayofyear) int64 1 2 3 4 5 6 7 8 ... 360 361 362 363 364 365 366"
      ]
     },
     "execution_count": 25,
     "metadata": {},
     "output_type": "execute_result"
    }
   ],
   "source": [
    "result=air.groupby('time.dayofyear').mean('time')\n",
    "result"
   ]
  },
  {
   "cell_type": "code",
   "execution_count": 27,
   "metadata": {},
   "outputs": [
    {
     "data": {
      "text/plain": [
       "array([268.08224, 266.94888, 264.4989 , 256.70667, 249.16002, 240.45334,\n",
       "       230.2378 , 220.48557, 217.20332, 217.1778 , 217.67667, 215.17336,\n",
       "       212.66446, 210.97113, 210.3489 , 212.65779, 218.52113],\n",
       "      dtype=float32)"
      ]
     },
     "execution_count": 27,
     "metadata": {},
     "output_type": "execute_result"
    }
   ],
   "source": [
    "result[66,:,12,12].values"
   ]
  },
  {
   "cell_type": "code",
   "execution_count": 35,
   "metadata": {},
   "outputs": [],
   "source": [
    "def clmDayTLLL(x):\n",
    "    \n",
    "    # Calculate the sizes of time dimension\n",
    "    len_of_dim = x.sizes\n",
    "    time_size = len_of_dim[x.dims[0]]\n",
    "    \n",
    "    \n",
    "    \n",
    "    # Get the sizes of latitude and longitude dimension\n",
    "    lev_size = len_of_dim[x.dims[1]]\n",
    "    lat_size = len_of_dim[x.dims[2]]\n",
    "    lon_size = len_of_dim[x.dims[3]]\n",
    "    \n",
    "    \n",
    "    # Store the time dimension name present in dataset as time variable\n",
    "    time = x.dims[0]\n",
    "    \n",
    "    \n",
    "    \n",
    "    # Compute 12 months average\n",
    "    ave_month = x.groupby(\"time.dayofyear\").mean(time)\n",
    "    \n",
    "    # Copy and update the attributes\n",
    "    ave_month.attrs = x.attrs\n",
    "    ave_month.encoding=x.encoding\n",
    "    ave_month.attrs['info'] = \"function clmDayTLL\"\n",
    "    return ave_month\n",
    "    \n",
    "    # Return the results"
   ]
  },
  {
   "cell_type": "code",
   "execution_count": 36,
   "metadata": {},
   "outputs": [
    {
     "data": {
      "text/html": [
       "<pre>&lt;xarray.DataArray &#x27;air&#x27; (dayofyear: 366, level: 17, lat: 73, lon: 144)&gt;\n",
       "dask.array&lt;stack, shape=(366, 17, 73, 144), dtype=float32, chunksize=(1, 17, 73, 144), chunktype=numpy.ndarray&gt;\n",
       "Coordinates:\n",
       "  * level      (level) float32 1000.0 925.0 850.0 700.0 ... 50.0 30.0 20.0 10.0\n",
       "  * lon        (lon) float32 0.0 2.5 5.0 7.5 10.0 ... 350.0 352.5 355.0 357.5\n",
       "  * lat        (lat) float32 90.0 87.5 85.0 82.5 ... -82.5 -85.0 -87.5 -90.0\n",
       "  * dayofyear  (dayofyear) int64 1 2 3 4 5 6 7 8 ... 360 361 362 363 364 365 366\n",
       "Attributes:\n",
       "    long_name:    mean Daily Air temperature\n",
       "    units:        degK\n",
       "    precision:    2\n",
       "    GRIB_id:      11\n",
       "    GRIB_name:    TMP\n",
       "    var_desc:     Air temperature\n",
       "    dataset:      NCEP Reanalysis Daily Averages\n",
       "    level_desc:   Multiple levels\n",
       "    statistic:    Mean\n",
       "    parent_stat:  Individual Obs\n",
       "    valid_range:  [150. 350.]\n",
       "    info:         function clmDayTLL</pre>"
      ],
      "text/plain": [
       "<xarray.DataArray 'air' (dayofyear: 366, level: 17, lat: 73, lon: 144)>\n",
       "dask.array<stack, shape=(366, 17, 73, 144), dtype=float32, chunksize=(1, 17, 73, 144), chunktype=numpy.ndarray>\n",
       "Coordinates:\n",
       "  * level      (level) float32 1000.0 925.0 850.0 700.0 ... 50.0 30.0 20.0 10.0\n",
       "  * lon        (lon) float32 0.0 2.5 5.0 7.5 10.0 ... 350.0 352.5 355.0 357.5\n",
       "  * lat        (lat) float32 90.0 87.5 85.0 82.5 ... -82.5 -85.0 -87.5 -90.0\n",
       "  * dayofyear  (dayofyear) int64 1 2 3 4 5 6 7 8 ... 360 361 362 363 364 365 366\n",
       "Attributes:\n",
       "    long_name:    mean Daily Air temperature\n",
       "    units:        degK\n",
       "    precision:    2\n",
       "    GRIB_id:      11\n",
       "    GRIB_name:    TMP\n",
       "    var_desc:     Air temperature\n",
       "    dataset:      NCEP Reanalysis Daily Averages\n",
       "    level_desc:   Multiple levels\n",
       "    statistic:    Mean\n",
       "    parent_stat:  Individual Obs\n",
       "    valid_range:  [150. 350.]\n",
       "    info:         function clmDayTLL"
      ]
     },
     "execution_count": 36,
     "metadata": {},
     "output_type": "execute_result"
    }
   ],
   "source": [
    "result=clmDayTLLL(air)\n",
    "result"
   ]
  },
  {
   "cell_type": "code",
   "execution_count": null,
   "metadata": {},
   "outputs": [],
   "source": []
  }
 ],
 "metadata": {
  "kernelspec": {
   "display_name": "Python 3",
   "language": "python",
   "name": "python3"
  },
  "language_info": {
   "codemirror_mode": {
    "name": "ipython",
    "version": 3
   },
   "file_extension": ".py",
   "mimetype": "text/x-python",
   "name": "python",
   "nbconvert_exporter": "python",
   "pygments_lexer": "ipython3",
   "version": "3.7.4"
  }
 },
 "nbformat": 4,
 "nbformat_minor": 2
}
