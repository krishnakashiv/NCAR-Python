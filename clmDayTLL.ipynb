{
 "cells": [
  {
   "cell_type": "code",
   "execution_count": 36,
   "metadata": {},
   "outputs": [],
   "source": [
    "import warnings\n",
    "warnings.filterwarnings('ignore')\n",
    "\n",
    "import numpy as np\n",
    "import pandas as pd\n",
    "import xarray as xr\n"
   ]
  },
  {
   "cell_type": "code",
   "execution_count": 37,
   "metadata": {},
   "outputs": [
    {
     "data": {
      "text/html": [
       "<pre>&lt;xarray.Dataset&gt;\n",
       "Dimensions:  (lat: 33, lon: 35, time: 1095)\n",
       "Coordinates:\n",
       "  * lon      (lon) float64 66.5 67.5 68.5 69.5 70.5 ... 97.5 98.5 99.5 100.5\n",
       "  * lat      (lat) float64 6.5 7.5 8.5 9.5 10.5 ... 34.5 35.5 36.5 37.5 38.5\n",
       "  * time     (time) datetime64[ns] 1994-01-01 1994-01-02 ... 1996-12-30\n",
       "Data variables:\n",
       "    rf       (time, lat, lon) float64 dask.array&lt;chunksize=(365, 33, 35), meta=np.ndarray&gt;</pre>"
      ],
      "text/plain": [
       "<xarray.Dataset>\n",
       "Dimensions:  (lat: 33, lon: 35, time: 1095)\n",
       "Coordinates:\n",
       "  * lon      (lon) float64 66.5 67.5 68.5 69.5 70.5 ... 97.5 98.5 99.5 100.5\n",
       "  * lat      (lat) float64 6.5 7.5 8.5 9.5 10.5 ... 34.5 35.5 36.5 37.5 38.5\n",
       "  * time     (time) datetime64[ns] 1994-01-01 1994-01-02 ... 1996-12-30\n",
       "Data variables:\n",
       "    rf       (time, lat, lon) float64 dask.array<chunksize=(365, 33, 35), meta=np.ndarray>"
      ]
     },
     "execution_count": 37,
     "metadata": {},
     "output_type": "execute_result"
    }
   ],
   "source": [
    "path = \"/home/mpiuser/Datasets/rf_*.nc\"\n",
    "\n",
    "ds = xr.open_mfdataset(path)\n",
    "ds"
   ]
  },
  {
   "cell_type": "code",
   "execution_count": 38,
   "metadata": {},
   "outputs": [
    {
     "data": {
      "text/html": [
       "<pre>&lt;xarray.DataArray &#x27;rf&#x27; (time: 1095, lat: 33, lon: 35)&gt;\n",
       "dask.array&lt;concatenate, shape=(1095, 33, 35), dtype=float64, chunksize=(365, 33, 35), chunktype=numpy.ndarray&gt;\n",
       "Coordinates:\n",
       "  * lon      (lon) float64 66.5 67.5 68.5 69.5 70.5 ... 97.5 98.5 99.5 100.5\n",
       "  * lat      (lat) float64 6.5 7.5 8.5 9.5 10.5 ... 34.5 35.5 36.5 37.5 38.5\n",
       "  * time     (time) datetime64[ns] 1994-01-01 1994-01-02 ... 1996-12-30</pre>"
      ],
      "text/plain": [
       "<xarray.DataArray 'rf' (time: 1095, lat: 33, lon: 35)>\n",
       "dask.array<concatenate, shape=(1095, 33, 35), dtype=float64, chunksize=(365, 33, 35), chunktype=numpy.ndarray>\n",
       "Coordinates:\n",
       "  * lon      (lon) float64 66.5 67.5 68.5 69.5 70.5 ... 97.5 98.5 99.5 100.5\n",
       "  * lat      (lat) float64 6.5 7.5 8.5 9.5 10.5 ... 34.5 35.5 36.5 37.5 38.5\n",
       "  * time     (time) datetime64[ns] 1994-01-01 1994-01-02 ... 1996-12-30"
      ]
     },
     "execution_count": 38,
     "metadata": {},
     "output_type": "execute_result"
    }
   ],
   "source": [
    "rain=ds[\"rf\"]\n",
    "rain"
   ]
  },
  {
   "cell_type": "code",
   "execution_count": 39,
   "metadata": {},
   "outputs": [],
   "source": [
    "len_of_dim = rain.sizes\n",
    "time_size = len_of_dim[rain.dims[0]]\n",
    "rank = len(len_of_dim)\n"
   ]
  },
  {
   "cell_type": "code",
   "execution_count": 40,
   "metadata": {},
   "outputs": [
    {
     "name": "stdout",
     "output_type": "stream",
     "text": [
      "Expected variable of rank = 3, recieved rank = 3\n"
     ]
    }
   ],
   "source": [
    " if (rank != 4):\n",
    "        print(\"Expected variable of rank = 3, recieved rank = {}\".format(rank))\n",
    "      \n",
    "    "
   ]
  },
  {
   "cell_type": "code",
   "execution_count": 41,
   "metadata": {},
   "outputs": [
    {
     "data": {
      "text/html": [
       "<pre>&lt;xarray.DataArray &#x27;rf&#x27; (dayofyear: 365, lat: 33, lon: 35)&gt;\n",
       "dask.array&lt;stack, shape=(365, 33, 35), dtype=float64, chunksize=(1, 33, 35), chunktype=numpy.ndarray&gt;\n",
       "Coordinates:\n",
       "  * lon        (lon) float64 66.5 67.5 68.5 69.5 70.5 ... 97.5 98.5 99.5 100.5\n",
       "  * lat        (lat) float64 6.5 7.5 8.5 9.5 10.5 ... 34.5 35.5 36.5 37.5 38.5\n",
       "  * dayofyear  (dayofyear) int64 1 2 3 4 5 6 7 8 ... 359 360 361 362 363 364 365</pre>"
      ],
      "text/plain": [
       "<xarray.DataArray 'rf' (dayofyear: 365, lat: 33, lon: 35)>\n",
       "dask.array<stack, shape=(365, 33, 35), dtype=float64, chunksize=(1, 33, 35), chunktype=numpy.ndarray>\n",
       "Coordinates:\n",
       "  * lon        (lon) float64 66.5 67.5 68.5 69.5 70.5 ... 97.5 98.5 99.5 100.5\n",
       "  * lat        (lat) float64 6.5 7.5 8.5 9.5 10.5 ... 34.5 35.5 36.5 37.5 38.5\n",
       "  * dayofyear  (dayofyear) int64 1 2 3 4 5 6 7 8 ... 359 360 361 362 363 364 365"
      ]
     },
     "execution_count": 41,
     "metadata": {},
     "output_type": "execute_result"
    }
   ],
   "source": [
    "result=rain.groupby('time.dayofyear').mean('time')\n",
    "result"
   ]
  },
  {
   "cell_type": "code",
   "execution_count": 42,
   "metadata": {},
   "outputs": [
    {
     "data": {
      "text/plain": [
       "array([       nan,        nan,        nan,        nan,        nan,\n",
       "              nan,        nan, 7.14538602, 1.05308461, 6.18788097,\n",
       "       5.64185649, 0.57549095, 4.34300137, 4.1920112 , 0.        ,\n",
       "       3.62479194, 8.89279882,        nan,        nan,        nan,\n",
       "              nan,        nan,        nan,        nan,        nan,\n",
       "              nan,        nan,        nan,        nan,        nan,\n",
       "              nan,        nan,        nan,        nan,        nan])"
      ]
     },
     "execution_count": 42,
     "metadata": {},
     "output_type": "execute_result"
    }
   ],
   "source": [
    "result[250,10,:].values"
   ]
  },
  {
   "cell_type": "code",
   "execution_count": 45,
   "metadata": {},
   "outputs": [],
   "source": [
    "def clmDayTLL(x):\n",
    "    \n",
    "    # Calculate the sizes of time dimension\n",
    "    len_of_dim = x.sizes\n",
    "    time_size = len_of_dim[x.dims[0]]\n",
    "    \n",
    "    \n",
    "    \n",
    "    # Get the sizes of latitude and longitude dimension\n",
    "    lat_size = len_of_dim[x.dims[1]]\n",
    "    lon_size = len_of_dim[x.dims[2]]\n",
    "    \n",
    "    \n",
    "    # Store the time dimension name present in dataset as time variable\n",
    "    time = x.dims[0]\n",
    "    \n",
    "    \n",
    "    \n",
    "    # Compute 12 months average\n",
    "    ave_month = x.groupby(\"time.dayofyear\").mean(time)\n",
    "    \n",
    "    # Copy and update the attributes\n",
    "    ave_month.attrs = x.attrs\n",
    "    ave_month.encoding=x.encoding\n",
    "    ave_month.attrs['info'] = \"function clmDayTLL\"\n",
    "    return ave_month\n",
    "    \n",
    "    # Return the results"
   ]
  },
  {
   "cell_type": "code",
   "execution_count": 46,
   "metadata": {},
   "outputs": [
    {
     "data": {
      "text/html": [
       "<pre>&lt;xarray.DataArray &#x27;rf&#x27; (dayofyear: 365, lat: 33, lon: 35)&gt;\n",
       "dask.array&lt;stack, shape=(365, 33, 35), dtype=float64, chunksize=(1, 33, 35), chunktype=numpy.ndarray&gt;\n",
       "Coordinates:\n",
       "  * lon        (lon) float64 66.5 67.5 68.5 69.5 70.5 ... 97.5 98.5 99.5 100.5\n",
       "  * lat        (lat) float64 6.5 7.5 8.5 9.5 10.5 ... 34.5 35.5 36.5 37.5 38.5\n",
       "  * dayofyear  (dayofyear) int64 1 2 3 4 5 6 7 8 ... 359 360 361 362 363 364 365\n",
       "Attributes:\n",
       "    info:     function clmDayTLL</pre>"
      ],
      "text/plain": [
       "<xarray.DataArray 'rf' (dayofyear: 365, lat: 33, lon: 35)>\n",
       "dask.array<stack, shape=(365, 33, 35), dtype=float64, chunksize=(1, 33, 35), chunktype=numpy.ndarray>\n",
       "Coordinates:\n",
       "  * lon        (lon) float64 66.5 67.5 68.5 69.5 70.5 ... 97.5 98.5 99.5 100.5\n",
       "  * lat        (lat) float64 6.5 7.5 8.5 9.5 10.5 ... 34.5 35.5 36.5 37.5 38.5\n",
       "  * dayofyear  (dayofyear) int64 1 2 3 4 5 6 7 8 ... 359 360 361 362 363 364 365\n",
       "Attributes:\n",
       "    info:     function clmDayTLL"
      ]
     },
     "execution_count": 46,
     "metadata": {},
     "output_type": "execute_result"
    }
   ],
   "source": [
    "result=clmDayTLL(rain)\n",
    "result"
   ]
  },
  {
   "cell_type": "code",
   "execution_count": null,
   "metadata": {},
   "outputs": [],
   "source": []
  }
 ],
 "metadata": {
  "kernelspec": {
   "display_name": "Python 3",
   "language": "python",
   "name": "python3"
  },
  "language_info": {
   "codemirror_mode": {
    "name": "ipython",
    "version": 3
   },
   "file_extension": ".py",
   "mimetype": "text/x-python",
   "name": "python",
   "nbconvert_exporter": "python",
   "pygments_lexer": "ipython3",
   "version": "3.7.4"
  }
 },
 "nbformat": 4,
 "nbformat_minor": 2
}
