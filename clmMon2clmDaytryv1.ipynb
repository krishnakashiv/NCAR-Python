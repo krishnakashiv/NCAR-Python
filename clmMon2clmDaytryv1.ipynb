{
 "cells": [
  {
   "cell_type": "code",
   "execution_count": 1,
   "metadata": {},
   "outputs": [],
   "source": [
    "import xarray as xr\n",
    "import numpy as np\n",
    "import pandas as pd"
   ]
  },
  {
   "cell_type": "code",
   "execution_count": 5,
   "metadata": {},
   "outputs": [
    {
     "name": "stdout",
     "output_type": "stream",
     "text": [
      "(1200, 192, 288)\n"
     ]
    }
   ],
   "source": [
    "dt=xr.open_dataset(\"Datasets/f.e11.F1850C5CN.f09_f09.001.clm2.h0.RAIN.230001-239912.nc\")\n",
    "rain=dt['RAIN']\n",
    "\n",
    "db=rain.loc['2301-01-01':'2302-01-01']\n",
    "print(rain.shape)"
   ]
  },
  {
   "cell_type": "code",
   "execution_count": 6,
   "metadata": {
    "scrolled": true
   },
   "outputs": [
    {
     "data": {
      "text/plain": [
       "array([cftime.DatetimeNoLeap(2301, 1, 1, 0, 0, 0, 0, 5, 1),\n",
       "       cftime.DatetimeNoLeap(2301, 2, 1, 0, 0, 0, 0, 1, 32),\n",
       "       cftime.DatetimeNoLeap(2301, 3, 1, 0, 0, 0, 0, 1, 60),\n",
       "       cftime.DatetimeNoLeap(2301, 4, 1, 0, 0, 0, 0, 4, 91),\n",
       "       cftime.DatetimeNoLeap(2301, 5, 1, 0, 0, 0, 0, 6, 121),\n",
       "       cftime.DatetimeNoLeap(2301, 6, 1, 0, 0, 0, 0, 2, 152),\n",
       "       cftime.DatetimeNoLeap(2301, 7, 1, 0, 0, 0, 0, 4, 182),\n",
       "       cftime.DatetimeNoLeap(2301, 8, 1, 0, 0, 0, 0, 0, 213),\n",
       "       cftime.DatetimeNoLeap(2301, 9, 1, 0, 0, 0, 0, 3, 244),\n",
       "       cftime.DatetimeNoLeap(2301, 10, 1, 0, 0, 0, 0, 5, 274),\n",
       "       cftime.DatetimeNoLeap(2301, 11, 1, 0, 0, 0, 0, 1, 305),\n",
       "       cftime.DatetimeNoLeap(2301, 12, 1, 0, 0, 0, 0, 3, 335),\n",
       "       cftime.DatetimeNoLeap(2302, 1, 1, 0, 0, 0, 0, 6, 1)], dtype=object)"
      ]
     },
     "execution_count": 6,
     "metadata": {},
     "output_type": "execute_result"
    }
   ],
   "source": [
    "db.time.values\n"
   ]
  },
  {
   "cell_type": "code",
   "execution_count": 7,
   "metadata": {
    "scrolled": true
   },
   "outputs": [
    {
     "data": {
      "text/plain": [
       "<xarray.DataArray 'RAIN' (time: 50)>\n",
       "array([2.13465963e-22, 2.14275718e-22, 2.15085473e-22, 2.15895229e-22,\n",
       "       2.16704984e-22, 2.17514739e-22, 2.18324494e-22, 2.19134250e-22,\n",
       "       2.19944005e-22, 2.20753760e-22, 2.21563515e-22, 2.22373270e-22,\n",
       "       2.23183026e-22, 2.23992781e-22, 2.24802536e-22, 2.25612291e-22,\n",
       "       2.26422047e-22, 2.27231802e-22, 2.28041557e-22, 2.28851312e-22,\n",
       "       2.29661068e-22, 2.30470823e-22, 2.31280578e-22, 2.32090333e-22,\n",
       "       2.32900089e-22, 2.33709844e-22, 2.34519599e-22, 2.35329354e-22,\n",
       "       2.36139109e-22, 2.36948865e-22, 2.37758620e-22, 2.38568375e-22,\n",
       "       2.31322961e-22, 2.24077547e-22, 2.16832132e-22, 2.09586718e-22,\n",
       "       2.02341304e-22, 1.95095890e-22, 1.87850475e-22, 1.80605061e-22,\n",
       "       1.73359647e-22, 1.66114233e-22, 1.58868819e-22, 1.51623404e-22,\n",
       "       1.44377990e-22, 1.37132576e-22, 1.29887162e-22, 1.22641747e-22,\n",
       "       1.15396333e-22, 1.08150919e-22])\n",
       "Coordinates:\n",
       "    lon      float32 11.25\n",
       "    lat      float32 -72.09424\n",
       "  * time     (time) object 2301-01-01 00:00:00 ... 2301-02-19 00:00:00\n",
       "Attributes:\n",
       "    long_name:     atmospheric rain\n",
       "    units:         mm/s\n",
       "    cell_methods:  time: mean"
      ]
     },
     "execution_count": 7,
     "metadata": {},
     "output_type": "execute_result"
    }
   ],
   "source": [
    "da=db.resample(time='1D').interpolate('linear')\n",
    "da[0:50,19,9]"
   ]
  },
  {
   "cell_type": "code",
   "execution_count": 8,
   "metadata": {},
   "outputs": [
    {
     "data": {
      "text/plain": [
       "array([cftime.DatetimeNoLeap(2301, 1, 1, 0, 0, 0, 0, 5, 1),\n",
       "       cftime.DatetimeNoLeap(2301, 1, 2, 0, 0, 0, 0, 6, 2),\n",
       "       cftime.DatetimeNoLeap(2301, 1, 3, 0, 0, 0, 0, 0, 3),\n",
       "       cftime.DatetimeNoLeap(2301, 1, 4, 0, 0, 0, 0, 1, 4),\n",
       "       cftime.DatetimeNoLeap(2301, 1, 5, 0, 0, 0, 0, 2, 5),\n",
       "       cftime.DatetimeNoLeap(2301, 1, 6, 0, 0, 0, 0, 3, 6),\n",
       "       cftime.DatetimeNoLeap(2301, 1, 7, 0, 0, 0, 0, 4, 7),\n",
       "       cftime.DatetimeNoLeap(2301, 1, 8, 0, 0, 0, 0, 5, 8),\n",
       "       cftime.DatetimeNoLeap(2301, 1, 9, 0, 0, 0, 0, 6, 9),\n",
       "       cftime.DatetimeNoLeap(2301, 1, 10, 0, 0, 0, 0, 0, 10),\n",
       "       cftime.DatetimeNoLeap(2301, 1, 11, 0, 0, 0, 0, 1, 11),\n",
       "       cftime.DatetimeNoLeap(2301, 1, 12, 0, 0, 0, 0, 2, 12),\n",
       "       cftime.DatetimeNoLeap(2301, 1, 13, 0, 0, 0, 0, 3, 13),\n",
       "       cftime.DatetimeNoLeap(2301, 1, 14, 0, 0, 0, 0, 4, 14),\n",
       "       cftime.DatetimeNoLeap(2301, 1, 15, 0, 0, 0, 0, 5, 15),\n",
       "       cftime.DatetimeNoLeap(2301, 1, 16, 0, 0, 0, 0, 6, 16),\n",
       "       cftime.DatetimeNoLeap(2301, 1, 17, 0, 0, 0, 0, 0, 17),\n",
       "       cftime.DatetimeNoLeap(2301, 1, 18, 0, 0, 0, 0, 1, 18),\n",
       "       cftime.DatetimeNoLeap(2301, 1, 19, 0, 0, 0, 0, 2, 19),\n",
       "       cftime.DatetimeNoLeap(2301, 1, 20, 0, 0, 0, 0, 3, 20),\n",
       "       cftime.DatetimeNoLeap(2301, 1, 21, 0, 0, 0, 0, 4, 21),\n",
       "       cftime.DatetimeNoLeap(2301, 1, 22, 0, 0, 0, 0, 5, 22),\n",
       "       cftime.DatetimeNoLeap(2301, 1, 23, 0, 0, 0, 0, 6, 23),\n",
       "       cftime.DatetimeNoLeap(2301, 1, 24, 0, 0, 0, 0, 0, 24),\n",
       "       cftime.DatetimeNoLeap(2301, 1, 25, 0, 0, 0, 0, 1, 25),\n",
       "       cftime.DatetimeNoLeap(2301, 1, 26, 0, 0, 0, 0, 2, 26),\n",
       "       cftime.DatetimeNoLeap(2301, 1, 27, 0, 0, 0, 0, 3, 27),\n",
       "       cftime.DatetimeNoLeap(2301, 1, 28, 0, 0, 0, 0, 4, 28),\n",
       "       cftime.DatetimeNoLeap(2301, 1, 29, 0, 0, 0, 0, 5, 29),\n",
       "       cftime.DatetimeNoLeap(2301, 1, 30, 0, 0, 0, 0, 6, 30),\n",
       "       cftime.DatetimeNoLeap(2301, 1, 31, 0, 0, 0, 0, 0, 31),\n",
       "       cftime.DatetimeNoLeap(2301, 2, 1, 0, 0, 0, 0, 1, 32),\n",
       "       cftime.DatetimeNoLeap(2301, 2, 2, 0, 0, 0, 0, 2, 33),\n",
       "       cftime.DatetimeNoLeap(2301, 2, 3, 0, 0, 0, 0, 3, 34),\n",
       "       cftime.DatetimeNoLeap(2301, 2, 4, 0, 0, 0, 0, 4, 35),\n",
       "       cftime.DatetimeNoLeap(2301, 2, 5, 0, 0, 0, 0, 5, 36),\n",
       "       cftime.DatetimeNoLeap(2301, 2, 6, 0, 0, 0, 0, 6, 37),\n",
       "       cftime.DatetimeNoLeap(2301, 2, 7, 0, 0, 0, 0, 0, 38),\n",
       "       cftime.DatetimeNoLeap(2301, 2, 8, 0, 0, 0, 0, 1, 39),\n",
       "       cftime.DatetimeNoLeap(2301, 2, 9, 0, 0, 0, 0, 2, 40),\n",
       "       cftime.DatetimeNoLeap(2301, 2, 10, 0, 0, 0, 0, 3, 41),\n",
       "       cftime.DatetimeNoLeap(2301, 2, 11, 0, 0, 0, 0, 4, 42),\n",
       "       cftime.DatetimeNoLeap(2301, 2, 12, 0, 0, 0, 0, 5, 43),\n",
       "       cftime.DatetimeNoLeap(2301, 2, 13, 0, 0, 0, 0, 6, 44),\n",
       "       cftime.DatetimeNoLeap(2301, 2, 14, 0, 0, 0, 0, 0, 45),\n",
       "       cftime.DatetimeNoLeap(2301, 2, 15, 0, 0, 0, 0, 1, 46),\n",
       "       cftime.DatetimeNoLeap(2301, 2, 16, 0, 0, 0, 0, 2, 47),\n",
       "       cftime.DatetimeNoLeap(2301, 2, 17, 0, 0, 0, 0, 3, 48),\n",
       "       cftime.DatetimeNoLeap(2301, 2, 18, 0, 0, 0, 0, 4, 49),\n",
       "       cftime.DatetimeNoLeap(2301, 2, 19, 0, 0, 0, 0, 5, 50),\n",
       "       cftime.DatetimeNoLeap(2301, 2, 20, 0, 0, 0, 0, 6, 51),\n",
       "       cftime.DatetimeNoLeap(2301, 2, 21, 0, 0, 0, 0, 0, 52),\n",
       "       cftime.DatetimeNoLeap(2301, 2, 22, 0, 0, 0, 0, 1, 53),\n",
       "       cftime.DatetimeNoLeap(2301, 2, 23, 0, 0, 0, 0, 2, 54),\n",
       "       cftime.DatetimeNoLeap(2301, 2, 24, 0, 0, 0, 0, 3, 55),\n",
       "       cftime.DatetimeNoLeap(2301, 2, 25, 0, 0, 0, 0, 4, 56),\n",
       "       cftime.DatetimeNoLeap(2301, 2, 26, 0, 0, 0, 0, 5, 57),\n",
       "       cftime.DatetimeNoLeap(2301, 2, 27, 0, 0, 0, 0, 6, 58),\n",
       "       cftime.DatetimeNoLeap(2301, 2, 28, 0, 0, 0, 0, 0, 59),\n",
       "       cftime.DatetimeNoLeap(2301, 3, 1, 0, 0, 0, 0, 1, 60),\n",
       "       cftime.DatetimeNoLeap(2301, 3, 2, 0, 0, 0, 0, 2, 61),\n",
       "       cftime.DatetimeNoLeap(2301, 3, 3, 0, 0, 0, 0, 3, 62),\n",
       "       cftime.DatetimeNoLeap(2301, 3, 4, 0, 0, 0, 0, 4, 63),\n",
       "       cftime.DatetimeNoLeap(2301, 3, 5, 0, 0, 0, 0, 5, 64),\n",
       "       cftime.DatetimeNoLeap(2301, 3, 6, 0, 0, 0, 0, 6, 65),\n",
       "       cftime.DatetimeNoLeap(2301, 3, 7, 0, 0, 0, 0, 0, 66),\n",
       "       cftime.DatetimeNoLeap(2301, 3, 8, 0, 0, 0, 0, 1, 67),\n",
       "       cftime.DatetimeNoLeap(2301, 3, 9, 0, 0, 0, 0, 2, 68),\n",
       "       cftime.DatetimeNoLeap(2301, 3, 10, 0, 0, 0, 0, 3, 69),\n",
       "       cftime.DatetimeNoLeap(2301, 3, 11, 0, 0, 0, 0, 4, 70),\n",
       "       cftime.DatetimeNoLeap(2301, 3, 12, 0, 0, 0, 0, 5, 71),\n",
       "       cftime.DatetimeNoLeap(2301, 3, 13, 0, 0, 0, 0, 6, 72),\n",
       "       cftime.DatetimeNoLeap(2301, 3, 14, 0, 0, 0, 0, 0, 73),\n",
       "       cftime.DatetimeNoLeap(2301, 3, 15, 0, 0, 0, 0, 1, 74),\n",
       "       cftime.DatetimeNoLeap(2301, 3, 16, 0, 0, 0, 0, 2, 75),\n",
       "       cftime.DatetimeNoLeap(2301, 3, 17, 0, 0, 0, 0, 3, 76),\n",
       "       cftime.DatetimeNoLeap(2301, 3, 18, 0, 0, 0, 0, 4, 77),\n",
       "       cftime.DatetimeNoLeap(2301, 3, 19, 0, 0, 0, 0, 5, 78),\n",
       "       cftime.DatetimeNoLeap(2301, 3, 20, 0, 0, 0, 0, 6, 79),\n",
       "       cftime.DatetimeNoLeap(2301, 3, 21, 0, 0, 0, 0, 0, 80),\n",
       "       cftime.DatetimeNoLeap(2301, 3, 22, 0, 0, 0, 0, 1, 81),\n",
       "       cftime.DatetimeNoLeap(2301, 3, 23, 0, 0, 0, 0, 2, 82),\n",
       "       cftime.DatetimeNoLeap(2301, 3, 24, 0, 0, 0, 0, 3, 83),\n",
       "       cftime.DatetimeNoLeap(2301, 3, 25, 0, 0, 0, 0, 4, 84),\n",
       "       cftime.DatetimeNoLeap(2301, 3, 26, 0, 0, 0, 0, 5, 85),\n",
       "       cftime.DatetimeNoLeap(2301, 3, 27, 0, 0, 0, 0, 6, 86),\n",
       "       cftime.DatetimeNoLeap(2301, 3, 28, 0, 0, 0, 0, 0, 87),\n",
       "       cftime.DatetimeNoLeap(2301, 3, 29, 0, 0, 0, 0, 1, 88),\n",
       "       cftime.DatetimeNoLeap(2301, 3, 30, 0, 0, 0, 0, 2, 89),\n",
       "       cftime.DatetimeNoLeap(2301, 3, 31, 0, 0, 0, 0, 3, 90),\n",
       "       cftime.DatetimeNoLeap(2301, 4, 1, 0, 0, 0, 0, 4, 91),\n",
       "       cftime.DatetimeNoLeap(2301, 4, 2, 0, 0, 0, 0, 5, 92),\n",
       "       cftime.DatetimeNoLeap(2301, 4, 3, 0, 0, 0, 0, 6, 93),\n",
       "       cftime.DatetimeNoLeap(2301, 4, 4, 0, 0, 0, 0, 0, 94),\n",
       "       cftime.DatetimeNoLeap(2301, 4, 5, 0, 0, 0, 0, 1, 95),\n",
       "       cftime.DatetimeNoLeap(2301, 4, 6, 0, 0, 0, 0, 2, 96),\n",
       "       cftime.DatetimeNoLeap(2301, 4, 7, 0, 0, 0, 0, 3, 97),\n",
       "       cftime.DatetimeNoLeap(2301, 4, 8, 0, 0, 0, 0, 4, 98),\n",
       "       cftime.DatetimeNoLeap(2301, 4, 9, 0, 0, 0, 0, 5, 99),\n",
       "       cftime.DatetimeNoLeap(2301, 4, 10, 0, 0, 0, 0, 6, 100),\n",
       "       cftime.DatetimeNoLeap(2301, 4, 11, 0, 0, 0, 0, 0, 101),\n",
       "       cftime.DatetimeNoLeap(2301, 4, 12, 0, 0, 0, 0, 1, 102),\n",
       "       cftime.DatetimeNoLeap(2301, 4, 13, 0, 0, 0, 0, 2, 103),\n",
       "       cftime.DatetimeNoLeap(2301, 4, 14, 0, 0, 0, 0, 3, 104),\n",
       "       cftime.DatetimeNoLeap(2301, 4, 15, 0, 0, 0, 0, 4, 105),\n",
       "       cftime.DatetimeNoLeap(2301, 4, 16, 0, 0, 0, 0, 5, 106),\n",
       "       cftime.DatetimeNoLeap(2301, 4, 17, 0, 0, 0, 0, 6, 107),\n",
       "       cftime.DatetimeNoLeap(2301, 4, 18, 0, 0, 0, 0, 0, 108),\n",
       "       cftime.DatetimeNoLeap(2301, 4, 19, 0, 0, 0, 0, 1, 109),\n",
       "       cftime.DatetimeNoLeap(2301, 4, 20, 0, 0, 0, 0, 2, 110),\n",
       "       cftime.DatetimeNoLeap(2301, 4, 21, 0, 0, 0, 0, 3, 111),\n",
       "       cftime.DatetimeNoLeap(2301, 4, 22, 0, 0, 0, 0, 4, 112),\n",
       "       cftime.DatetimeNoLeap(2301, 4, 23, 0, 0, 0, 0, 5, 113),\n",
       "       cftime.DatetimeNoLeap(2301, 4, 24, 0, 0, 0, 0, 6, 114),\n",
       "       cftime.DatetimeNoLeap(2301, 4, 25, 0, 0, 0, 0, 0, 115),\n",
       "       cftime.DatetimeNoLeap(2301, 4, 26, 0, 0, 0, 0, 1, 116),\n",
       "       cftime.DatetimeNoLeap(2301, 4, 27, 0, 0, 0, 0, 2, 117),\n",
       "       cftime.DatetimeNoLeap(2301, 4, 28, 0, 0, 0, 0, 3, 118),\n",
       "       cftime.DatetimeNoLeap(2301, 4, 29, 0, 0, 0, 0, 4, 119),\n",
       "       cftime.DatetimeNoLeap(2301, 4, 30, 0, 0, 0, 0, 5, 120),\n",
       "       cftime.DatetimeNoLeap(2301, 5, 1, 0, 0, 0, 0, 6, 121),\n",
       "       cftime.DatetimeNoLeap(2301, 5, 2, 0, 0, 0, 0, 0, 122),\n",
       "       cftime.DatetimeNoLeap(2301, 5, 3, 0, 0, 0, 0, 1, 123),\n",
       "       cftime.DatetimeNoLeap(2301, 5, 4, 0, 0, 0, 0, 2, 124),\n",
       "       cftime.DatetimeNoLeap(2301, 5, 5, 0, 0, 0, 0, 3, 125),\n",
       "       cftime.DatetimeNoLeap(2301, 5, 6, 0, 0, 0, 0, 4, 126),\n",
       "       cftime.DatetimeNoLeap(2301, 5, 7, 0, 0, 0, 0, 5, 127),\n",
       "       cftime.DatetimeNoLeap(2301, 5, 8, 0, 0, 0, 0, 6, 128),\n",
       "       cftime.DatetimeNoLeap(2301, 5, 9, 0, 0, 0, 0, 0, 129),\n",
       "       cftime.DatetimeNoLeap(2301, 5, 10, 0, 0, 0, 0, 1, 130),\n",
       "       cftime.DatetimeNoLeap(2301, 5, 11, 0, 0, 0, 0, 2, 131),\n",
       "       cftime.DatetimeNoLeap(2301, 5, 12, 0, 0, 0, 0, 3, 132),\n",
       "       cftime.DatetimeNoLeap(2301, 5, 13, 0, 0, 0, 0, 4, 133),\n",
       "       cftime.DatetimeNoLeap(2301, 5, 14, 0, 0, 0, 0, 5, 134),\n",
       "       cftime.DatetimeNoLeap(2301, 5, 15, 0, 0, 0, 0, 6, 135),\n",
       "       cftime.DatetimeNoLeap(2301, 5, 16, 0, 0, 0, 0, 0, 136),\n",
       "       cftime.DatetimeNoLeap(2301, 5, 17, 0, 0, 0, 0, 1, 137),\n",
       "       cftime.DatetimeNoLeap(2301, 5, 18, 0, 0, 0, 0, 2, 138),\n",
       "       cftime.DatetimeNoLeap(2301, 5, 19, 0, 0, 0, 0, 3, 139),\n",
       "       cftime.DatetimeNoLeap(2301, 5, 20, 0, 0, 0, 0, 4, 140),\n",
       "       cftime.DatetimeNoLeap(2301, 5, 21, 0, 0, 0, 0, 5, 141),\n",
       "       cftime.DatetimeNoLeap(2301, 5, 22, 0, 0, 0, 0, 6, 142),\n",
       "       cftime.DatetimeNoLeap(2301, 5, 23, 0, 0, 0, 0, 0, 143),\n",
       "       cftime.DatetimeNoLeap(2301, 5, 24, 0, 0, 0, 0, 1, 144),\n",
       "       cftime.DatetimeNoLeap(2301, 5, 25, 0, 0, 0, 0, 2, 145),\n",
       "       cftime.DatetimeNoLeap(2301, 5, 26, 0, 0, 0, 0, 3, 146),\n",
       "       cftime.DatetimeNoLeap(2301, 5, 27, 0, 0, 0, 0, 4, 147),\n",
       "       cftime.DatetimeNoLeap(2301, 5, 28, 0, 0, 0, 0, 5, 148),\n",
       "       cftime.DatetimeNoLeap(2301, 5, 29, 0, 0, 0, 0, 6, 149),\n",
       "       cftime.DatetimeNoLeap(2301, 5, 30, 0, 0, 0, 0, 0, 150),\n",
       "       cftime.DatetimeNoLeap(2301, 5, 31, 0, 0, 0, 0, 1, 151),\n",
       "       cftime.DatetimeNoLeap(2301, 6, 1, 0, 0, 0, 0, 2, 152),\n",
       "       cftime.DatetimeNoLeap(2301, 6, 2, 0, 0, 0, 0, 3, 153),\n",
       "       cftime.DatetimeNoLeap(2301, 6, 3, 0, 0, 0, 0, 4, 154),\n",
       "       cftime.DatetimeNoLeap(2301, 6, 4, 0, 0, 0, 0, 5, 155),\n",
       "       cftime.DatetimeNoLeap(2301, 6, 5, 0, 0, 0, 0, 6, 156),\n",
       "       cftime.DatetimeNoLeap(2301, 6, 6, 0, 0, 0, 0, 0, 157),\n",
       "       cftime.DatetimeNoLeap(2301, 6, 7, 0, 0, 0, 0, 1, 158),\n",
       "       cftime.DatetimeNoLeap(2301, 6, 8, 0, 0, 0, 0, 2, 159),\n",
       "       cftime.DatetimeNoLeap(2301, 6, 9, 0, 0, 0, 0, 3, 160),\n",
       "       cftime.DatetimeNoLeap(2301, 6, 10, 0, 0, 0, 0, 4, 161),\n",
       "       cftime.DatetimeNoLeap(2301, 6, 11, 0, 0, 0, 0, 5, 162),\n",
       "       cftime.DatetimeNoLeap(2301, 6, 12, 0, 0, 0, 0, 6, 163),\n",
       "       cftime.DatetimeNoLeap(2301, 6, 13, 0, 0, 0, 0, 0, 164),\n",
       "       cftime.DatetimeNoLeap(2301, 6, 14, 0, 0, 0, 0, 1, 165),\n",
       "       cftime.DatetimeNoLeap(2301, 6, 15, 0, 0, 0, 0, 2, 166),\n",
       "       cftime.DatetimeNoLeap(2301, 6, 16, 0, 0, 0, 0, 3, 167),\n",
       "       cftime.DatetimeNoLeap(2301, 6, 17, 0, 0, 0, 0, 4, 168),\n",
       "       cftime.DatetimeNoLeap(2301, 6, 18, 0, 0, 0, 0, 5, 169),\n",
       "       cftime.DatetimeNoLeap(2301, 6, 19, 0, 0, 0, 0, 6, 170),\n",
       "       cftime.DatetimeNoLeap(2301, 6, 20, 0, 0, 0, 0, 0, 171),\n",
       "       cftime.DatetimeNoLeap(2301, 6, 21, 0, 0, 0, 0, 1, 172),\n",
       "       cftime.DatetimeNoLeap(2301, 6, 22, 0, 0, 0, 0, 2, 173),\n",
       "       cftime.DatetimeNoLeap(2301, 6, 23, 0, 0, 0, 0, 3, 174),\n",
       "       cftime.DatetimeNoLeap(2301, 6, 24, 0, 0, 0, 0, 4, 175),\n",
       "       cftime.DatetimeNoLeap(2301, 6, 25, 0, 0, 0, 0, 5, 176),\n",
       "       cftime.DatetimeNoLeap(2301, 6, 26, 0, 0, 0, 0, 6, 177),\n",
       "       cftime.DatetimeNoLeap(2301, 6, 27, 0, 0, 0, 0, 0, 178),\n",
       "       cftime.DatetimeNoLeap(2301, 6, 28, 0, 0, 0, 0, 1, 179),\n",
       "       cftime.DatetimeNoLeap(2301, 6, 29, 0, 0, 0, 0, 2, 180),\n",
       "       cftime.DatetimeNoLeap(2301, 6, 30, 0, 0, 0, 0, 3, 181),\n",
       "       cftime.DatetimeNoLeap(2301, 7, 1, 0, 0, 0, 0, 4, 182),\n",
       "       cftime.DatetimeNoLeap(2301, 7, 2, 0, 0, 0, 0, 5, 183),\n",
       "       cftime.DatetimeNoLeap(2301, 7, 3, 0, 0, 0, 0, 6, 184),\n",
       "       cftime.DatetimeNoLeap(2301, 7, 4, 0, 0, 0, 0, 0, 185),\n",
       "       cftime.DatetimeNoLeap(2301, 7, 5, 0, 0, 0, 0, 1, 186),\n",
       "       cftime.DatetimeNoLeap(2301, 7, 6, 0, 0, 0, 0, 2, 187),\n",
       "       cftime.DatetimeNoLeap(2301, 7, 7, 0, 0, 0, 0, 3, 188),\n",
       "       cftime.DatetimeNoLeap(2301, 7, 8, 0, 0, 0, 0, 4, 189),\n",
       "       cftime.DatetimeNoLeap(2301, 7, 9, 0, 0, 0, 0, 5, 190),\n",
       "       cftime.DatetimeNoLeap(2301, 7, 10, 0, 0, 0, 0, 6, 191),\n",
       "       cftime.DatetimeNoLeap(2301, 7, 11, 0, 0, 0, 0, 0, 192),\n",
       "       cftime.DatetimeNoLeap(2301, 7, 12, 0, 0, 0, 0, 1, 193),\n",
       "       cftime.DatetimeNoLeap(2301, 7, 13, 0, 0, 0, 0, 2, 194),\n",
       "       cftime.DatetimeNoLeap(2301, 7, 14, 0, 0, 0, 0, 3, 195),\n",
       "       cftime.DatetimeNoLeap(2301, 7, 15, 0, 0, 0, 0, 4, 196),\n",
       "       cftime.DatetimeNoLeap(2301, 7, 16, 0, 0, 0, 0, 5, 197),\n",
       "       cftime.DatetimeNoLeap(2301, 7, 17, 0, 0, 0, 0, 6, 198),\n",
       "       cftime.DatetimeNoLeap(2301, 7, 18, 0, 0, 0, 0, 0, 199),\n",
       "       cftime.DatetimeNoLeap(2301, 7, 19, 0, 0, 0, 0, 1, 200),\n",
       "       cftime.DatetimeNoLeap(2301, 7, 20, 0, 0, 0, 0, 2, 201),\n",
       "       cftime.DatetimeNoLeap(2301, 7, 21, 0, 0, 0, 0, 3, 202),\n",
       "       cftime.DatetimeNoLeap(2301, 7, 22, 0, 0, 0, 0, 4, 203),\n",
       "       cftime.DatetimeNoLeap(2301, 7, 23, 0, 0, 0, 0, 5, 204),\n",
       "       cftime.DatetimeNoLeap(2301, 7, 24, 0, 0, 0, 0, 6, 205),\n",
       "       cftime.DatetimeNoLeap(2301, 7, 25, 0, 0, 0, 0, 0, 206),\n",
       "       cftime.DatetimeNoLeap(2301, 7, 26, 0, 0, 0, 0, 1, 207),\n",
       "       cftime.DatetimeNoLeap(2301, 7, 27, 0, 0, 0, 0, 2, 208),\n",
       "       cftime.DatetimeNoLeap(2301, 7, 28, 0, 0, 0, 0, 3, 209),\n",
       "       cftime.DatetimeNoLeap(2301, 7, 29, 0, 0, 0, 0, 4, 210),\n",
       "       cftime.DatetimeNoLeap(2301, 7, 30, 0, 0, 0, 0, 5, 211),\n",
       "       cftime.DatetimeNoLeap(2301, 7, 31, 0, 0, 0, 0, 6, 212),\n",
       "       cftime.DatetimeNoLeap(2301, 8, 1, 0, 0, 0, 0, 0, 213),\n",
       "       cftime.DatetimeNoLeap(2301, 8, 2, 0, 0, 0, 0, 1, 214),\n",
       "       cftime.DatetimeNoLeap(2301, 8, 3, 0, 0, 0, 0, 2, 215),\n",
       "       cftime.DatetimeNoLeap(2301, 8, 4, 0, 0, 0, 0, 3, 216),\n",
       "       cftime.DatetimeNoLeap(2301, 8, 5, 0, 0, 0, 0, 4, 217),\n",
       "       cftime.DatetimeNoLeap(2301, 8, 6, 0, 0, 0, 0, 5, 218),\n",
       "       cftime.DatetimeNoLeap(2301, 8, 7, 0, 0, 0, 0, 6, 219),\n",
       "       cftime.DatetimeNoLeap(2301, 8, 8, 0, 0, 0, 0, 0, 220),\n",
       "       cftime.DatetimeNoLeap(2301, 8, 9, 0, 0, 0, 0, 1, 221),\n",
       "       cftime.DatetimeNoLeap(2301, 8, 10, 0, 0, 0, 0, 2, 222),\n",
       "       cftime.DatetimeNoLeap(2301, 8, 11, 0, 0, 0, 0, 3, 223),\n",
       "       cftime.DatetimeNoLeap(2301, 8, 12, 0, 0, 0, 0, 4, 224),\n",
       "       cftime.DatetimeNoLeap(2301, 8, 13, 0, 0, 0, 0, 5, 225),\n",
       "       cftime.DatetimeNoLeap(2301, 8, 14, 0, 0, 0, 0, 6, 226),\n",
       "       cftime.DatetimeNoLeap(2301, 8, 15, 0, 0, 0, 0, 0, 227),\n",
       "       cftime.DatetimeNoLeap(2301, 8, 16, 0, 0, 0, 0, 1, 228),\n",
       "       cftime.DatetimeNoLeap(2301, 8, 17, 0, 0, 0, 0, 2, 229),\n",
       "       cftime.DatetimeNoLeap(2301, 8, 18, 0, 0, 0, 0, 3, 230),\n",
       "       cftime.DatetimeNoLeap(2301, 8, 19, 0, 0, 0, 0, 4, 231),\n",
       "       cftime.DatetimeNoLeap(2301, 8, 20, 0, 0, 0, 0, 5, 232),\n",
       "       cftime.DatetimeNoLeap(2301, 8, 21, 0, 0, 0, 0, 6, 233),\n",
       "       cftime.DatetimeNoLeap(2301, 8, 22, 0, 0, 0, 0, 0, 234),\n",
       "       cftime.DatetimeNoLeap(2301, 8, 23, 0, 0, 0, 0, 1, 235),\n",
       "       cftime.DatetimeNoLeap(2301, 8, 24, 0, 0, 0, 0, 2, 236),\n",
       "       cftime.DatetimeNoLeap(2301, 8, 25, 0, 0, 0, 0, 3, 237),\n",
       "       cftime.DatetimeNoLeap(2301, 8, 26, 0, 0, 0, 0, 4, 238),\n",
       "       cftime.DatetimeNoLeap(2301, 8, 27, 0, 0, 0, 0, 5, 239),\n",
       "       cftime.DatetimeNoLeap(2301, 8, 28, 0, 0, 0, 0, 6, 240),\n",
       "       cftime.DatetimeNoLeap(2301, 8, 29, 0, 0, 0, 0, 0, 241),\n",
       "       cftime.DatetimeNoLeap(2301, 8, 30, 0, 0, 0, 0, 1, 242),\n",
       "       cftime.DatetimeNoLeap(2301, 8, 31, 0, 0, 0, 0, 2, 243),\n",
       "       cftime.DatetimeNoLeap(2301, 9, 1, 0, 0, 0, 0, 3, 244),\n",
       "       cftime.DatetimeNoLeap(2301, 9, 2, 0, 0, 0, 0, 4, 245),\n",
       "       cftime.DatetimeNoLeap(2301, 9, 3, 0, 0, 0, 0, 5, 246),\n",
       "       cftime.DatetimeNoLeap(2301, 9, 4, 0, 0, 0, 0, 6, 247),\n",
       "       cftime.DatetimeNoLeap(2301, 9, 5, 0, 0, 0, 0, 0, 248),\n",
       "       cftime.DatetimeNoLeap(2301, 9, 6, 0, 0, 0, 0, 1, 249),\n",
       "       cftime.DatetimeNoLeap(2301, 9, 7, 0, 0, 0, 0, 2, 250),\n",
       "       cftime.DatetimeNoLeap(2301, 9, 8, 0, 0, 0, 0, 3, 251),\n",
       "       cftime.DatetimeNoLeap(2301, 9, 9, 0, 0, 0, 0, 4, 252),\n",
       "       cftime.DatetimeNoLeap(2301, 9, 10, 0, 0, 0, 0, 5, 253),\n",
       "       cftime.DatetimeNoLeap(2301, 9, 11, 0, 0, 0, 0, 6, 254),\n",
       "       cftime.DatetimeNoLeap(2301, 9, 12, 0, 0, 0, 0, 0, 255),\n",
       "       cftime.DatetimeNoLeap(2301, 9, 13, 0, 0, 0, 0, 1, 256),\n",
       "       cftime.DatetimeNoLeap(2301, 9, 14, 0, 0, 0, 0, 2, 257),\n",
       "       cftime.DatetimeNoLeap(2301, 9, 15, 0, 0, 0, 0, 3, 258),\n",
       "       cftime.DatetimeNoLeap(2301, 9, 16, 0, 0, 0, 0, 4, 259),\n",
       "       cftime.DatetimeNoLeap(2301, 9, 17, 0, 0, 0, 0, 5, 260),\n",
       "       cftime.DatetimeNoLeap(2301, 9, 18, 0, 0, 0, 0, 6, 261),\n",
       "       cftime.DatetimeNoLeap(2301, 9, 19, 0, 0, 0, 0, 0, 262),\n",
       "       cftime.DatetimeNoLeap(2301, 9, 20, 0, 0, 0, 0, 1, 263),\n",
       "       cftime.DatetimeNoLeap(2301, 9, 21, 0, 0, 0, 0, 2, 264),\n",
       "       cftime.DatetimeNoLeap(2301, 9, 22, 0, 0, 0, 0, 3, 265),\n",
       "       cftime.DatetimeNoLeap(2301, 9, 23, 0, 0, 0, 0, 4, 266),\n",
       "       cftime.DatetimeNoLeap(2301, 9, 24, 0, 0, 0, 0, 5, 267),\n",
       "       cftime.DatetimeNoLeap(2301, 9, 25, 0, 0, 0, 0, 6, 268),\n",
       "       cftime.DatetimeNoLeap(2301, 9, 26, 0, 0, 0, 0, 0, 269),\n",
       "       cftime.DatetimeNoLeap(2301, 9, 27, 0, 0, 0, 0, 1, 270),\n",
       "       cftime.DatetimeNoLeap(2301, 9, 28, 0, 0, 0, 0, 2, 271),\n",
       "       cftime.DatetimeNoLeap(2301, 9, 29, 0, 0, 0, 0, 3, 272),\n",
       "       cftime.DatetimeNoLeap(2301, 9, 30, 0, 0, 0, 0, 4, 273),\n",
       "       cftime.DatetimeNoLeap(2301, 10, 1, 0, 0, 0, 0, 5, 274),\n",
       "       cftime.DatetimeNoLeap(2301, 10, 2, 0, 0, 0, 0, 6, 275),\n",
       "       cftime.DatetimeNoLeap(2301, 10, 3, 0, 0, 0, 0, 0, 276),\n",
       "       cftime.DatetimeNoLeap(2301, 10, 4, 0, 0, 0, 0, 1, 277),\n",
       "       cftime.DatetimeNoLeap(2301, 10, 5, 0, 0, 0, 0, 2, 278),\n",
       "       cftime.DatetimeNoLeap(2301, 10, 6, 0, 0, 0, 0, 3, 279),\n",
       "       cftime.DatetimeNoLeap(2301, 10, 7, 0, 0, 0, 0, 4, 280),\n",
       "       cftime.DatetimeNoLeap(2301, 10, 8, 0, 0, 0, 0, 5, 281),\n",
       "       cftime.DatetimeNoLeap(2301, 10, 9, 0, 0, 0, 0, 6, 282),\n",
       "       cftime.DatetimeNoLeap(2301, 10, 10, 0, 0, 0, 0, 0, 283),\n",
       "       cftime.DatetimeNoLeap(2301, 10, 11, 0, 0, 0, 0, 1, 284),\n",
       "       cftime.DatetimeNoLeap(2301, 10, 12, 0, 0, 0, 0, 2, 285),\n",
       "       cftime.DatetimeNoLeap(2301, 10, 13, 0, 0, 0, 0, 3, 286),\n",
       "       cftime.DatetimeNoLeap(2301, 10, 14, 0, 0, 0, 0, 4, 287),\n",
       "       cftime.DatetimeNoLeap(2301, 10, 15, 0, 0, 0, 0, 5, 288),\n",
       "       cftime.DatetimeNoLeap(2301, 10, 16, 0, 0, 0, 0, 6, 289),\n",
       "       cftime.DatetimeNoLeap(2301, 10, 17, 0, 0, 0, 0, 0, 290),\n",
       "       cftime.DatetimeNoLeap(2301, 10, 18, 0, 0, 0, 0, 1, 291),\n",
       "       cftime.DatetimeNoLeap(2301, 10, 19, 0, 0, 0, 0, 2, 292),\n",
       "       cftime.DatetimeNoLeap(2301, 10, 20, 0, 0, 0, 0, 3, 293),\n",
       "       cftime.DatetimeNoLeap(2301, 10, 21, 0, 0, 0, 0, 4, 294),\n",
       "       cftime.DatetimeNoLeap(2301, 10, 22, 0, 0, 0, 0, 5, 295),\n",
       "       cftime.DatetimeNoLeap(2301, 10, 23, 0, 0, 0, 0, 6, 296),\n",
       "       cftime.DatetimeNoLeap(2301, 10, 24, 0, 0, 0, 0, 0, 297),\n",
       "       cftime.DatetimeNoLeap(2301, 10, 25, 0, 0, 0, 0, 1, 298),\n",
       "       cftime.DatetimeNoLeap(2301, 10, 26, 0, 0, 0, 0, 2, 299),\n",
       "       cftime.DatetimeNoLeap(2301, 10, 27, 0, 0, 0, 0, 3, 300),\n",
       "       cftime.DatetimeNoLeap(2301, 10, 28, 0, 0, 0, 0, 4, 301),\n",
       "       cftime.DatetimeNoLeap(2301, 10, 29, 0, 0, 0, 0, 5, 302),\n",
       "       cftime.DatetimeNoLeap(2301, 10, 30, 0, 0, 0, 0, 6, 303),\n",
       "       cftime.DatetimeNoLeap(2301, 10, 31, 0, 0, 0, 0, 0, 304),\n",
       "       cftime.DatetimeNoLeap(2301, 11, 1, 0, 0, 0, 0, 1, 305),\n",
       "       cftime.DatetimeNoLeap(2301, 11, 2, 0, 0, 0, 0, 2, 306),\n",
       "       cftime.DatetimeNoLeap(2301, 11, 3, 0, 0, 0, 0, 3, 307),\n",
       "       cftime.DatetimeNoLeap(2301, 11, 4, 0, 0, 0, 0, 4, 308),\n",
       "       cftime.DatetimeNoLeap(2301, 11, 5, 0, 0, 0, 0, 5, 309),\n",
       "       cftime.DatetimeNoLeap(2301, 11, 6, 0, 0, 0, 0, 6, 310),\n",
       "       cftime.DatetimeNoLeap(2301, 11, 7, 0, 0, 0, 0, 0, 311),\n",
       "       cftime.DatetimeNoLeap(2301, 11, 8, 0, 0, 0, 0, 1, 312),\n",
       "       cftime.DatetimeNoLeap(2301, 11, 9, 0, 0, 0, 0, 2, 313),\n",
       "       cftime.DatetimeNoLeap(2301, 11, 10, 0, 0, 0, 0, 3, 314),\n",
       "       cftime.DatetimeNoLeap(2301, 11, 11, 0, 0, 0, 0, 4, 315),\n",
       "       cftime.DatetimeNoLeap(2301, 11, 12, 0, 0, 0, 0, 5, 316),\n",
       "       cftime.DatetimeNoLeap(2301, 11, 13, 0, 0, 0, 0, 6, 317),\n",
       "       cftime.DatetimeNoLeap(2301, 11, 14, 0, 0, 0, 0, 0, 318),\n",
       "       cftime.DatetimeNoLeap(2301, 11, 15, 0, 0, 0, 0, 1, 319),\n",
       "       cftime.DatetimeNoLeap(2301, 11, 16, 0, 0, 0, 0, 2, 320),\n",
       "       cftime.DatetimeNoLeap(2301, 11, 17, 0, 0, 0, 0, 3, 321),\n",
       "       cftime.DatetimeNoLeap(2301, 11, 18, 0, 0, 0, 0, 4, 322),\n",
       "       cftime.DatetimeNoLeap(2301, 11, 19, 0, 0, 0, 0, 5, 323),\n",
       "       cftime.DatetimeNoLeap(2301, 11, 20, 0, 0, 0, 0, 6, 324),\n",
       "       cftime.DatetimeNoLeap(2301, 11, 21, 0, 0, 0, 0, 0, 325),\n",
       "       cftime.DatetimeNoLeap(2301, 11, 22, 0, 0, 0, 0, 1, 326),\n",
       "       cftime.DatetimeNoLeap(2301, 11, 23, 0, 0, 0, 0, 2, 327),\n",
       "       cftime.DatetimeNoLeap(2301, 11, 24, 0, 0, 0, 0, 3, 328),\n",
       "       cftime.DatetimeNoLeap(2301, 11, 25, 0, 0, 0, 0, 4, 329),\n",
       "       cftime.DatetimeNoLeap(2301, 11, 26, 0, 0, 0, 0, 5, 330),\n",
       "       cftime.DatetimeNoLeap(2301, 11, 27, 0, 0, 0, 0, 6, 331),\n",
       "       cftime.DatetimeNoLeap(2301, 11, 28, 0, 0, 0, 0, 0, 332),\n",
       "       cftime.DatetimeNoLeap(2301, 11, 29, 0, 0, 0, 0, 1, 333),\n",
       "       cftime.DatetimeNoLeap(2301, 11, 30, 0, 0, 0, 0, 2, 334),\n",
       "       cftime.DatetimeNoLeap(2301, 12, 1, 0, 0, 0, 0, 3, 335),\n",
       "       cftime.DatetimeNoLeap(2301, 12, 2, 0, 0, 0, 0, 4, 336),\n",
       "       cftime.DatetimeNoLeap(2301, 12, 3, 0, 0, 0, 0, 5, 337),\n",
       "       cftime.DatetimeNoLeap(2301, 12, 4, 0, 0, 0, 0, 6, 338),\n",
       "       cftime.DatetimeNoLeap(2301, 12, 5, 0, 0, 0, 0, 0, 339),\n",
       "       cftime.DatetimeNoLeap(2301, 12, 6, 0, 0, 0, 0, 1, 340),\n",
       "       cftime.DatetimeNoLeap(2301, 12, 7, 0, 0, 0, 0, 2, 341),\n",
       "       cftime.DatetimeNoLeap(2301, 12, 8, 0, 0, 0, 0, 3, 342),\n",
       "       cftime.DatetimeNoLeap(2301, 12, 9, 0, 0, 0, 0, 4, 343),\n",
       "       cftime.DatetimeNoLeap(2301, 12, 10, 0, 0, 0, 0, 5, 344),\n",
       "       cftime.DatetimeNoLeap(2301, 12, 11, 0, 0, 0, 0, 6, 345),\n",
       "       cftime.DatetimeNoLeap(2301, 12, 12, 0, 0, 0, 0, 0, 346),\n",
       "       cftime.DatetimeNoLeap(2301, 12, 13, 0, 0, 0, 0, 1, 347),\n",
       "       cftime.DatetimeNoLeap(2301, 12, 14, 0, 0, 0, 0, 2, 348),\n",
       "       cftime.DatetimeNoLeap(2301, 12, 15, 0, 0, 0, 0, 3, 349),\n",
       "       cftime.DatetimeNoLeap(2301, 12, 16, 0, 0, 0, 0, 4, 350),\n",
       "       cftime.DatetimeNoLeap(2301, 12, 17, 0, 0, 0, 0, 5, 351),\n",
       "       cftime.DatetimeNoLeap(2301, 12, 18, 0, 0, 0, 0, 6, 352),\n",
       "       cftime.DatetimeNoLeap(2301, 12, 19, 0, 0, 0, 0, 0, 353),\n",
       "       cftime.DatetimeNoLeap(2301, 12, 20, 0, 0, 0, 0, 1, 354),\n",
       "       cftime.DatetimeNoLeap(2301, 12, 21, 0, 0, 0, 0, 2, 355),\n",
       "       cftime.DatetimeNoLeap(2301, 12, 22, 0, 0, 0, 0, 3, 356),\n",
       "       cftime.DatetimeNoLeap(2301, 12, 23, 0, 0, 0, 0, 4, 357),\n",
       "       cftime.DatetimeNoLeap(2301, 12, 24, 0, 0, 0, 0, 5, 358),\n",
       "       cftime.DatetimeNoLeap(2301, 12, 25, 0, 0, 0, 0, 6, 359),\n",
       "       cftime.DatetimeNoLeap(2301, 12, 26, 0, 0, 0, 0, 0, 360),\n",
       "       cftime.DatetimeNoLeap(2301, 12, 27, 0, 0, 0, 0, 1, 361),\n",
       "       cftime.DatetimeNoLeap(2301, 12, 28, 0, 0, 0, 0, 2, 362),\n",
       "       cftime.DatetimeNoLeap(2301, 12, 29, 0, 0, 0, 0, 3, 363),\n",
       "       cftime.DatetimeNoLeap(2301, 12, 30, 0, 0, 0, 0, 4, 364),\n",
       "       cftime.DatetimeNoLeap(2301, 12, 31, 0, 0, 0, 0, 5, 365),\n",
       "       cftime.DatetimeNoLeap(2302, 1, 1, 0, 0, 0, 0, 6, 1)], dtype=object)"
      ]
     },
     "execution_count": 8,
     "metadata": {},
     "output_type": "execute_result"
    }
   ],
   "source": [
    "da.time.values"
   ]
  },
  {
   "cell_type": "code",
   "execution_count": 9,
   "metadata": {},
   "outputs": [
    {
     "data": {
      "text/plain": [
       "array([2.72679157e-10, 1.16937735e-23, 7.97161943e-22, 4.20483486e-22,\n",
       "       1.40087043e-22, 1.33612651e-21, 0.00000000e+00, 0.00000000e+00,\n",
       "       0.00000000e+00, 6.67081134e-24, 1.97029825e-22, 2.13465963e-22,\n",
       "       2.38568375e-22, 3.56967827e-23, 2.77950466e-24, 2.98704107e-23,\n",
       "       1.15627400e-21, 7.07698957e-22, 9.01167581e-25, 0.00000000e+00,\n",
       "       0.00000000e+00, 1.31192630e-22, 4.36567553e-23, 0.00000000e+00,\n",
       "       2.83287549e-21, 3.79124461e-21, 2.60258930e-21, 3.27950128e-22,\n",
       "       2.66498913e-21, 7.74332980e-21, 2.93150889e-24, 0.00000000e+00,\n",
       "       0.00000000e+00, 6.62633921e-22, 1.89564462e-22, 2.99630602e-22,\n",
       "       8.73123568e-19, 3.63122469e-22, 0.00000000e+00, 0.00000000e+00,\n",
       "       6.22609037e-23, 0.00000000e+00, 0.00000000e+00, 4.43861886e-20,\n",
       "       9.19089534e-24, 1.08580204e-27, 2.29772384e-24, 1.56275041e-24,\n",
       "       1.31331596e-22, 8.51799131e-22], dtype=float32)"
      ]
     },
     "execution_count": 9,
     "metadata": {},
     "output_type": "execute_result"
    }
   ],
   "source": [
    "dt.RAIN[0:50,19,9].values\n"
   ]
  },
  {
   "cell_type": "code",
   "execution_count": 10,
   "metadata": {},
   "outputs": [],
   "source": [
    "indexofval=[15.5,45,74.5,105,135.5,166,196.5,227.5,258,288.5,319,349.5 ]\n",
    "roundd=[]"
   ]
  },
  {
   "cell_type": "code",
   "execution_count": 11,
   "metadata": {},
   "outputs": [
    {
     "data": {
      "text/plain": [
       "[16, 45, 74, 105, 136, 166, 196, 228, 258, 288, 319, 350]"
      ]
     },
     "execution_count": 11,
     "metadata": {},
     "output_type": "execute_result"
    }
   ],
   "source": [
    "for i in range(len(indexofval)):\n",
    "    roundd.append(round(indexofval[i]))\n",
    "roundd  "
   ]
  },
  {
   "cell_type": "code",
   "execution_count": 12,
   "metadata": {},
   "outputs": [
    {
     "data": {
      "text/plain": [
       "(1200, 192, 288)"
      ]
     },
     "execution_count": 12,
     "metadata": {},
     "output_type": "execute_result"
    }
   ],
   "source": [
    "len(db.values)\n",
    "rain.shape"
   ]
  },
  {
   "cell_type": "code",
   "execution_count": 13,
   "metadata": {},
   "outputs": [
    {
     "data": {
      "text/plain": [
       "array([[9.1847360e-22, 9.1850420e-22, 9.1848683e-22, ..., 9.1847169e-22,\n",
       "        9.1844977e-22, 9.1846946e-22],\n",
       "       [2.4408642e-21, 2.2553205e-21, 2.3905738e-21, ..., 2.3756704e-21,\n",
       "        2.5164159e-21, 2.6044729e-21],\n",
       "       [6.5613331e-21, 6.0954592e-21, 5.8928096e-21, ..., 4.5848881e-21,\n",
       "        4.7621891e-21, 5.8058539e-21],\n",
       "       ...,\n",
       "       [          nan,           nan,           nan, ...,           nan,\n",
       "                  nan,           nan],\n",
       "       [          nan,           nan,           nan, ...,           nan,\n",
       "                  nan,           nan],\n",
       "       [          nan,           nan,           nan, ...,           nan,\n",
       "                  nan,           nan]], dtype=float32)"
      ]
     },
     "execution_count": 13,
     "metadata": {},
     "output_type": "execute_result"
    }
   ],
   "source": [
    "db.values[1]"
   ]
  },
  {
   "cell_type": "code",
   "execution_count": 14,
   "metadata": {},
   "outputs": [],
   "source": [
    "temp=[[np.nan for i in range(rain.shape[2])]for j in range(rain.shape[1])]"
   ]
  },
  {
   "cell_type": "code",
   "execution_count": 15,
   "metadata": {},
   "outputs": [],
   "source": [
    "ans=[temp for i in range(365)]"
   ]
  },
  {
   "cell_type": "code",
   "execution_count": 16,
   "metadata": {},
   "outputs": [],
   "source": [
    "count=0\n",
    "for i in roundd:\n",
    "    \n",
    "    ans[i]=db.values[count].tolist()\n",
    "    count=count+1\n",
    "# print(roundd)\n"
   ]
  },
  {
   "cell_type": "code",
   "execution_count": 17,
   "metadata": {},
   "outputs": [],
   "source": [
    "ans=np.array(ans)"
   ]
  },
  {
   "cell_type": "code",
   "execution_count": 18,
   "metadata": {},
   "outputs": [
    {
     "data": {
      "text/plain": [
       "array([[nan, nan, nan, ..., nan, nan, nan],\n",
       "       [nan, nan, nan, ..., nan, nan, nan],\n",
       "       [nan, nan, nan, ..., nan, nan, nan],\n",
       "       ...,\n",
       "       [nan, nan, nan, ..., nan, nan, nan],\n",
       "       [nan, nan, nan, ..., nan, nan, nan],\n",
       "       [nan, nan, nan, ..., nan, nan, nan]])"
      ]
     },
     "execution_count": 18,
     "metadata": {},
     "output_type": "execute_result"
    }
   ],
   "source": [
    "ans[0]"
   ]
  },
  {
   "cell_type": "code",
   "execution_count": null,
   "metadata": {},
   "outputs": [],
   "source": []
  }
 ],
 "metadata": {
  "kernelspec": {
   "display_name": "Python 3",
   "language": "python",
   "name": "python3"
  },
  "language_info": {
   "codemirror_mode": {
    "name": "ipython",
    "version": 3
   },
   "file_extension": ".py",
   "mimetype": "text/x-python",
   "name": "python",
   "nbconvert_exporter": "python",
   "pygments_lexer": "ipython3",
   "version": "3.7.4"
  }
 },
 "nbformat": 4,
 "nbformat_minor": 2
}
